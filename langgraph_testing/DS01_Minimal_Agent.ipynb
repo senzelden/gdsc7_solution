{
 "cells": [
  {
   "cell_type": "markdown",
   "id": "5965c3e8-8bc6-4b61-971b-f368bbed1669",
   "metadata": {},
   "source": [
    "## Minimal Agent\n",
    "\n",
    "#### Architecture\n",
    "- Default ReAct from LangGraph (for function error handling)\n",
    "\n",
    "#### Tools\n",
    "- database\n",
    "- visualization\n",
    "- UNESCO API\n",
    "- Excel reader (for Limitations)\n",
    "\n",
    "#### Prompt Adjustments\n",
    "- give examples for final output\n",
    "    - closed questions: output should be answer to text + limitations (e.g. for South Africa, plus comparison with benchmark?)\n",
    "    - open questions: answer with numbers + paragraphs individual explanation + limitations\n",
    "    - visualization questions: visualization + interpretation\n",
    "    - out of scope questions: playful decline + explanation of pirls + link\n",
    "\n",
    "#### State Management\n",
    "- control input and output of tools (JSON as input possible?)\n",
    "\n",
    "#### Tool Adjustments\n",
    "- switch to controlled visualization\n",
    "- try out statistics function\n",
    "- try out image generation"
   ]
  },
  {
   "cell_type": "code",
   "execution_count": 1,
   "id": "ee774168-5b2e-4625-ba29-4a71fcc0dedd",
   "metadata": {
    "tags": []
   },
   "outputs": [
    {
     "name": "stdout",
     "output_type": "stream",
     "text": [
      "Requirement already satisfied: langgraph in /home/ec2-user/anaconda3/envs/python3/lib/python3.10/site-packages (from -r ../requirements.txt (line 1)) (0.2.44)\n",
      "Requirement already satisfied: setuptools==70.0.0 in /home/ec2-user/anaconda3/envs/python3/lib/python3.10/site-packages (from -r ../requirements.txt (line 2)) (70.0.0)\n",
      "Requirement already satisfied: numpy==1.23.5 in /home/ec2-user/anaconda3/envs/python3/lib/python3.10/site-packages (from -r ../requirements.txt (line 3)) (1.23.5)\n",
      "Requirement already satisfied: uvicorn==0.30.1 in /home/ec2-user/anaconda3/envs/python3/lib/python3.10/site-packages (from -r ../requirements.txt (line 4)) (0.30.1)\n",
      "Requirement already satisfied: fastapi==0.110.3 in /home/ec2-user/anaconda3/envs/python3/lib/python3.10/site-packages (from -r ../requirements.txt (line 5)) (0.110.3)\n",
      "Requirement already satisfied: python-dotenv==1.0.0 in /home/ec2-user/anaconda3/envs/python3/lib/python3.10/site-packages (from -r ../requirements.txt (line 6)) (1.0.0)\n",
      "Requirement already satisfied: crewai==0.51.1 in /home/ec2-user/anaconda3/envs/python3/lib/python3.10/site-packages (from -r ../requirements.txt (line 7)) (0.51.1)\n",
      "Requirement already satisfied: langchain==0.2.15 in /home/ec2-user/anaconda3/envs/python3/lib/python3.10/site-packages (from -r ../requirements.txt (line 8)) (0.2.15)\n",
      "Requirement already satisfied: langchain-aws==0.1.17 in /home/ec2-user/anaconda3/envs/python3/lib/python3.10/site-packages (from -r ../requirements.txt (line 9)) (0.1.17)\n",
      "Requirement already satisfied: sqlalchemy==2.0.31 in /home/ec2-user/anaconda3/envs/python3/lib/python3.10/site-packages (from -r ../requirements.txt (line 10)) (2.0.31)\n",
      "Requirement already satisfied: tiktoken==0.7.0 in /home/ec2-user/anaconda3/envs/python3/lib/python3.10/site-packages (from -r ../requirements.txt (line 11)) (0.7.0)\n",
      "Requirement already satisfied: pydantic==2.8.2 in /home/ec2-user/anaconda3/envs/python3/lib/python3.10/site-packages (from -r ../requirements.txt (line 12)) (2.8.2)\n",
      "Requirement already satisfied: durationpy==0.6 in /home/ec2-user/anaconda3/envs/python3/lib/python3.10/site-packages (from -r ../requirements.txt (line 13)) (0.6)\n",
      "Requirement already satisfied: async-timeout in /home/ec2-user/anaconda3/envs/python3/lib/python3.10/site-packages (from -r ../requirements.txt (line 14)) (4.0.3)\n",
      "Requirement already satisfied: psycopg2-binary==2.9.9 in /home/ec2-user/anaconda3/envs/python3/lib/python3.10/site-packages (from -r ../requirements.txt (line 15)) (2.9.9)\n",
      "Requirement already satisfied: anthropic in /home/ec2-user/anaconda3/envs/python3/lib/python3.10/site-packages (from -r ../requirements.txt (line 16)) (0.38.0)\n",
      "Requirement already satisfied: openpyxl in /home/ec2-user/anaconda3/envs/python3/lib/python3.10/site-packages (from -r ../requirements.txt (line 17)) (3.1.5)\n",
      "Requirement already satisfied: seaborn in /home/ec2-user/anaconda3/envs/python3/lib/python3.10/site-packages (from -r ../requirements.txt (line 18)) (0.13.2)\n",
      "Requirement already satisfied: statsmodels in /home/ec2-user/anaconda3/envs/python3/lib/python3.10/site-packages (from -r ../requirements.txt (line 19)) (0.14.3)\n",
      "Requirement already satisfied: tabula-py in /home/ec2-user/anaconda3/envs/python3/lib/python3.10/site-packages (from -r ../requirements.txt (line 20)) (2.9.3)\n",
      "Requirement already satisfied: duckduckgo-search in /home/ec2-user/anaconda3/envs/python3/lib/python3.10/site-packages (from -r ../requirements.txt (line 21)) (6.3.3)\n",
      "Requirement already satisfied: click>=7.0 in /home/ec2-user/anaconda3/envs/python3/lib/python3.10/site-packages (from uvicorn==0.30.1->-r ../requirements.txt (line 4)) (8.1.7)\n",
      "Requirement already satisfied: h11>=0.8 in /home/ec2-user/anaconda3/envs/python3/lib/python3.10/site-packages (from uvicorn==0.30.1->-r ../requirements.txt (line 4)) (0.14.0)\n",
      "Requirement already satisfied: typing-extensions>=4.0 in /home/ec2-user/anaconda3/envs/python3/lib/python3.10/site-packages (from uvicorn==0.30.1->-r ../requirements.txt (line 4)) (4.12.2)\n",
      "Requirement already satisfied: starlette<0.38.0,>=0.37.2 in /home/ec2-user/anaconda3/envs/python3/lib/python3.10/site-packages (from fastapi==0.110.3->-r ../requirements.txt (line 5)) (0.37.2)\n",
      "Requirement already satisfied: appdirs<2.0.0,>=1.4.4 in /home/ec2-user/anaconda3/envs/python3/lib/python3.10/site-packages (from crewai==0.51.1->-r ../requirements.txt (line 7)) (1.4.4)\n",
      "Requirement already satisfied: embedchain<0.2.0,>=0.1.114 in /home/ec2-user/anaconda3/envs/python3/lib/python3.10/site-packages (from crewai==0.51.1->-r ../requirements.txt (line 7)) (0.1.122)\n",
      "Requirement already satisfied: instructor==1.3.3 in /home/ec2-user/anaconda3/envs/python3/lib/python3.10/site-packages (from crewai==0.51.1->-r ../requirements.txt (line 7)) (1.3.3)\n",
      "Requirement already satisfied: json-repair<0.26.0,>=0.25.2 in /home/ec2-user/anaconda3/envs/python3/lib/python3.10/site-packages (from crewai==0.51.1->-r ../requirements.txt (line 7)) (0.25.3)\n",
      "Requirement already satisfied: jsonref<2.0.0,>=1.1.0 in /home/ec2-user/anaconda3/envs/python3/lib/python3.10/site-packages (from crewai==0.51.1->-r ../requirements.txt (line 7)) (1.1.0)\n",
      "Requirement already satisfied: openai<2.0.0,>=1.13.3 in /home/ec2-user/anaconda3/envs/python3/lib/python3.10/site-packages (from crewai==0.51.1->-r ../requirements.txt (line 7)) (1.53.0)\n",
      "Requirement already satisfied: opentelemetry-api<2.0.0,>=1.22.0 in /home/ec2-user/anaconda3/envs/python3/lib/python3.10/site-packages (from crewai==0.51.1->-r ../requirements.txt (line 7)) (1.27.0)\n",
      "Requirement already satisfied: opentelemetry-exporter-otlp-proto-http<2.0.0,>=1.22.0 in /home/ec2-user/anaconda3/envs/python3/lib/python3.10/site-packages (from crewai==0.51.1->-r ../requirements.txt (line 7)) (1.27.0)\n",
      "Requirement already satisfied: opentelemetry-sdk<2.0.0,>=1.22.0 in /home/ec2-user/anaconda3/envs/python3/lib/python3.10/site-packages (from crewai==0.51.1->-r ../requirements.txt (line 7)) (1.27.0)\n",
      "Requirement already satisfied: regex<2024.0.0,>=2023.12.25 in /home/ec2-user/anaconda3/envs/python3/lib/python3.10/site-packages (from crewai==0.51.1->-r ../requirements.txt (line 7)) (2023.12.25)\n",
      "Requirement already satisfied: PyYAML>=5.3 in /home/ec2-user/anaconda3/envs/python3/lib/python3.10/site-packages (from langchain==0.2.15->-r ../requirements.txt (line 8)) (6.0.2)\n",
      "Requirement already satisfied: aiohttp<4.0.0,>=3.8.3 in /home/ec2-user/anaconda3/envs/python3/lib/python3.10/site-packages (from langchain==0.2.15->-r ../requirements.txt (line 8)) (3.10.6)\n",
      "Requirement already satisfied: langchain-core<0.3.0,>=0.2.35 in /home/ec2-user/anaconda3/envs/python3/lib/python3.10/site-packages (from langchain==0.2.15->-r ../requirements.txt (line 8)) (0.2.43)\n",
      "Requirement already satisfied: langchain-text-splitters<0.3.0,>=0.2.0 in /home/ec2-user/anaconda3/envs/python3/lib/python3.10/site-packages (from langchain==0.2.15->-r ../requirements.txt (line 8)) (0.2.4)\n",
      "Requirement already satisfied: langsmith<0.2.0,>=0.1.17 in /home/ec2-user/anaconda3/envs/python3/lib/python3.10/site-packages (from langchain==0.2.15->-r ../requirements.txt (line 8)) (0.1.139)\n",
      "Requirement already satisfied: requests<3,>=2 in /home/ec2-user/anaconda3/envs/python3/lib/python3.10/site-packages (from langchain==0.2.15->-r ../requirements.txt (line 8)) (2.32.3)\n",
      "Requirement already satisfied: tenacity!=8.4.0,<9.0.0,>=8.1.0 in /home/ec2-user/anaconda3/envs/python3/lib/python3.10/site-packages (from langchain==0.2.15->-r ../requirements.txt (line 8)) (8.5.0)\n",
      "Requirement already satisfied: boto3<1.35.0,>=1.34.131 in /home/ec2-user/anaconda3/envs/python3/lib/python3.10/site-packages (from langchain-aws==0.1.17->-r ../requirements.txt (line 9)) (1.34.162)\n",
      "Requirement already satisfied: greenlet!=0.4.17 in /home/ec2-user/anaconda3/envs/python3/lib/python3.10/site-packages (from sqlalchemy==2.0.31->-r ../requirements.txt (line 10)) (3.1.1)\n",
      "Requirement already satisfied: annotated-types>=0.4.0 in /home/ec2-user/anaconda3/envs/python3/lib/python3.10/site-packages (from pydantic==2.8.2->-r ../requirements.txt (line 12)) (0.7.0)\n",
      "Requirement already satisfied: pydantic-core==2.20.1 in /home/ec2-user/anaconda3/envs/python3/lib/python3.10/site-packages (from pydantic==2.8.2->-r ../requirements.txt (line 12)) (2.20.1)\n",
      "Requirement already satisfied: psycopg2==2.9.9 in /home/ec2-user/anaconda3/envs/python3/lib/python3.10/site-packages (from psycopg2-binary==2.9.9->-r ../requirements.txt (line 15)) (2.9.9)\n",
      "Requirement already satisfied: docstring-parser<0.17,>=0.16 in /home/ec2-user/anaconda3/envs/python3/lib/python3.10/site-packages (from instructor==1.3.3->crewai==0.51.1->-r ../requirements.txt (line 7)) (0.16)\n",
      "Requirement already satisfied: jiter<0.5.0,>=0.4.1 in /home/ec2-user/anaconda3/envs/python3/lib/python3.10/site-packages (from instructor==1.3.3->crewai==0.51.1->-r ../requirements.txt (line 7)) (0.4.2)\n",
      "Requirement already satisfied: rich<14.0.0,>=13.7.0 in /home/ec2-user/anaconda3/envs/python3/lib/python3.10/site-packages (from instructor==1.3.3->crewai==0.51.1->-r ../requirements.txt (line 7)) (13.8.1)\n",
      "Requirement already satisfied: typer<1.0.0,>=0.9.0 in /home/ec2-user/anaconda3/envs/python3/lib/python3.10/site-packages (from instructor==1.3.3->crewai==0.51.1->-r ../requirements.txt (line 7)) (0.12.5)\n",
      "Requirement already satisfied: langgraph-checkpoint<3.0.0,>=2.0.0 in /home/ec2-user/anaconda3/envs/python3/lib/python3.10/site-packages (from langgraph->-r ../requirements.txt (line 1)) (2.0.2)\n",
      "Requirement already satisfied: langgraph-sdk<0.2.0,>=0.1.32 in /home/ec2-user/anaconda3/envs/python3/lib/python3.10/site-packages (from langgraph->-r ../requirements.txt (line 1)) (0.1.35)\n",
      "Requirement already satisfied: anyio<5,>=3.5.0 in /home/ec2-user/anaconda3/envs/python3/lib/python3.10/site-packages (from anthropic->-r ../requirements.txt (line 16)) (4.6.0)\n",
      "Requirement already satisfied: distro<2,>=1.7.0 in /home/ec2-user/anaconda3/envs/python3/lib/python3.10/site-packages (from anthropic->-r ../requirements.txt (line 16)) (1.9.0)\n",
      "Requirement already satisfied: httpx<1,>=0.23.0 in /home/ec2-user/anaconda3/envs/python3/lib/python3.10/site-packages (from anthropic->-r ../requirements.txt (line 16)) (0.27.2)\n",
      "Requirement already satisfied: sniffio in /home/ec2-user/anaconda3/envs/python3/lib/python3.10/site-packages (from anthropic->-r ../requirements.txt (line 16)) (1.3.1)\n",
      "Requirement already satisfied: tokenizers>=0.13.0 in /home/ec2-user/anaconda3/envs/python3/lib/python3.10/site-packages (from anthropic->-r ../requirements.txt (line 16)) (0.20.1)\n",
      "Requirement already satisfied: et-xmlfile in /home/ec2-user/anaconda3/envs/python3/lib/python3.10/site-packages (from openpyxl->-r ../requirements.txt (line 17)) (1.1.0)\n",
      "Requirement already satisfied: pandas>=1.2 in /home/ec2-user/anaconda3/envs/python3/lib/python3.10/site-packages (from seaborn->-r ../requirements.txt (line 18)) (1.5.3)\n",
      "Requirement already satisfied: matplotlib!=3.6.1,>=3.4 in /home/ec2-user/anaconda3/envs/python3/lib/python3.10/site-packages (from seaborn->-r ../requirements.txt (line 18)) (3.9.2)\n",
      "Requirement already satisfied: scipy!=1.9.2,>=1.8 in /home/ec2-user/anaconda3/envs/python3/lib/python3.10/site-packages (from statsmodels->-r ../requirements.txt (line 19)) (1.14.1)\n",
      "Requirement already satisfied: patsy>=0.5.6 in /home/ec2-user/anaconda3/envs/python3/lib/python3.10/site-packages (from statsmodels->-r ../requirements.txt (line 19)) (0.5.6)\n",
      "Requirement already satisfied: packaging>=21.3 in /home/ec2-user/anaconda3/envs/python3/lib/python3.10/site-packages (from statsmodels->-r ../requirements.txt (line 19)) (24.1)\n",
      "Requirement already satisfied: primp>=0.6.5 in /home/ec2-user/anaconda3/envs/python3/lib/python3.10/site-packages (from duckduckgo-search->-r ../requirements.txt (line 21)) (0.6.5)\n",
      "Requirement already satisfied: aiohappyeyeballs>=2.3.0 in /home/ec2-user/anaconda3/envs/python3/lib/python3.10/site-packages (from aiohttp<4.0.0,>=3.8.3->langchain==0.2.15->-r ../requirements.txt (line 8)) (2.4.2)\n",
      "Requirement already satisfied: aiosignal>=1.1.2 in /home/ec2-user/anaconda3/envs/python3/lib/python3.10/site-packages (from aiohttp<4.0.0,>=3.8.3->langchain==0.2.15->-r ../requirements.txt (line 8)) (1.3.1)\n",
      "Requirement already satisfied: attrs>=17.3.0 in /home/ec2-user/anaconda3/envs/python3/lib/python3.10/site-packages (from aiohttp<4.0.0,>=3.8.3->langchain==0.2.15->-r ../requirements.txt (line 8)) (23.2.0)\n",
      "Requirement already satisfied: frozenlist>=1.1.1 in /home/ec2-user/anaconda3/envs/python3/lib/python3.10/site-packages (from aiohttp<4.0.0,>=3.8.3->langchain==0.2.15->-r ../requirements.txt (line 8)) (1.4.1)\n",
      "Requirement already satisfied: multidict<7.0,>=4.5 in /home/ec2-user/anaconda3/envs/python3/lib/python3.10/site-packages (from aiohttp<4.0.0,>=3.8.3->langchain==0.2.15->-r ../requirements.txt (line 8)) (6.1.0)\n",
      "Requirement already satisfied: yarl<2.0,>=1.12.0 in /home/ec2-user/anaconda3/envs/python3/lib/python3.10/site-packages (from aiohttp<4.0.0,>=3.8.3->langchain==0.2.15->-r ../requirements.txt (line 8)) (1.13.0)\n",
      "Requirement already satisfied: idna>=2.8 in /home/ec2-user/anaconda3/envs/python3/lib/python3.10/site-packages (from anyio<5,>=3.5.0->anthropic->-r ../requirements.txt (line 16)) (3.10)\n",
      "Requirement already satisfied: exceptiongroup>=1.0.2 in /home/ec2-user/anaconda3/envs/python3/lib/python3.10/site-packages (from anyio<5,>=3.5.0->anthropic->-r ../requirements.txt (line 16)) (1.2.2)\n",
      "Requirement already satisfied: botocore<1.35.0,>=1.34.162 in /home/ec2-user/anaconda3/envs/python3/lib/python3.10/site-packages (from boto3<1.35.0,>=1.34.131->langchain-aws==0.1.17->-r ../requirements.txt (line 9)) (1.34.162)\n",
      "Requirement already satisfied: jmespath<2.0.0,>=0.7.1 in /home/ec2-user/anaconda3/envs/python3/lib/python3.10/site-packages (from boto3<1.35.0,>=1.34.131->langchain-aws==0.1.17->-r ../requirements.txt (line 9)) (1.0.1)\n",
      "Requirement already satisfied: s3transfer<0.11.0,>=0.10.0 in /home/ec2-user/anaconda3/envs/python3/lib/python3.10/site-packages (from boto3<1.35.0,>=1.34.131->langchain-aws==0.1.17->-r ../requirements.txt (line 9)) (0.10.2)\n",
      "Requirement already satisfied: alembic<2.0.0,>=1.13.1 in /home/ec2-user/anaconda3/envs/python3/lib/python3.10/site-packages (from embedchain<0.2.0,>=0.1.114->crewai==0.51.1->-r ../requirements.txt (line 7)) (1.13.3)\n",
      "Requirement already satisfied: beautifulsoup4<5.0.0,>=4.12.2 in /home/ec2-user/anaconda3/envs/python3/lib/python3.10/site-packages (from embedchain<0.2.0,>=0.1.114->crewai==0.51.1->-r ../requirements.txt (line 7)) (4.12.3)\n",
      "Requirement already satisfied: chromadb<0.5.0,>=0.4.24 in /home/ec2-user/anaconda3/envs/python3/lib/python3.10/site-packages (from embedchain<0.2.0,>=0.1.114->crewai==0.51.1->-r ../requirements.txt (line 7)) (0.4.24)\n",
      "Requirement already satisfied: cohere<6.0,>=5.3 in /home/ec2-user/anaconda3/envs/python3/lib/python3.10/site-packages (from embedchain<0.2.0,>=0.1.114->crewai==0.51.1->-r ../requirements.txt (line 7)) (5.11.3)\n",
      "Requirement already satisfied: google-cloud-aiplatform<2.0.0,>=1.26.1 in /home/ec2-user/anaconda3/envs/python3/lib/python3.10/site-packages (from embedchain<0.2.0,>=0.1.114->crewai==0.51.1->-r ../requirements.txt (line 7)) (1.71.1)\n",
      "Requirement already satisfied: gptcache<0.2.0,>=0.1.43 in /home/ec2-user/anaconda3/envs/python3/lib/python3.10/site-packages (from embedchain<0.2.0,>=0.1.114->crewai==0.51.1->-r ../requirements.txt (line 7)) (0.1.44)\n",
      "Requirement already satisfied: langchain-cohere<0.2.0,>=0.1.4 in /home/ec2-user/anaconda3/envs/python3/lib/python3.10/site-packages (from embedchain<0.2.0,>=0.1.114->crewai==0.51.1->-r ../requirements.txt (line 7)) (0.1.9)\n",
      "Requirement already satisfied: langchain-community<0.3.0,>=0.2.6 in /home/ec2-user/anaconda3/envs/python3/lib/python3.10/site-packages (from embedchain<0.2.0,>=0.1.114->crewai==0.51.1->-r ../requirements.txt (line 7)) (0.2.15)\n",
      "Requirement already satisfied: langchain-openai<0.2.0,>=0.1.7 in /home/ec2-user/anaconda3/envs/python3/lib/python3.10/site-packages (from embedchain<0.2.0,>=0.1.114->crewai==0.51.1->-r ../requirements.txt (line 7)) (0.1.25)\n",
      "Requirement already satisfied: mem0ai<0.2.0,>=0.1.15 in /home/ec2-user/anaconda3/envs/python3/lib/python3.10/site-packages (from embedchain<0.2.0,>=0.1.114->crewai==0.51.1->-r ../requirements.txt (line 7)) (0.1.26)\n",
      "Requirement already satisfied: posthog<4.0.0,>=3.0.2 in /home/ec2-user/anaconda3/envs/python3/lib/python3.10/site-packages (from embedchain<0.2.0,>=0.1.114->crewai==0.51.1->-r ../requirements.txt (line 7)) (3.7.0)\n",
      "Requirement already satisfied: pypdf<5.0.0,>=4.0.1 in /home/ec2-user/anaconda3/envs/python3/lib/python3.10/site-packages (from embedchain<0.2.0,>=0.1.114->crewai==0.51.1->-r ../requirements.txt (line 7)) (4.3.1)\n",
      "Requirement already satisfied: pysbd<0.4.0,>=0.3.4 in /home/ec2-user/anaconda3/envs/python3/lib/python3.10/site-packages (from embedchain<0.2.0,>=0.1.114->crewai==0.51.1->-r ../requirements.txt (line 7)) (0.3.4)\n",
      "Requirement already satisfied: schema<0.8.0,>=0.7.5 in /home/ec2-user/anaconda3/envs/python3/lib/python3.10/site-packages (from embedchain<0.2.0,>=0.1.114->crewai==0.51.1->-r ../requirements.txt (line 7)) (0.7.7)\n",
      "Requirement already satisfied: certifi in /home/ec2-user/anaconda3/envs/python3/lib/python3.10/site-packages (from httpx<1,>=0.23.0->anthropic->-r ../requirements.txt (line 16)) (2024.8.30)\n",
      "Requirement already satisfied: httpcore==1.* in /home/ec2-user/anaconda3/envs/python3/lib/python3.10/site-packages (from httpx<1,>=0.23.0->anthropic->-r ../requirements.txt (line 16)) (1.0.5)\n",
      "Requirement already satisfied: jsonpatch<2.0,>=1.33 in /home/ec2-user/anaconda3/envs/python3/lib/python3.10/site-packages (from langchain-core<0.3.0,>=0.2.35->langchain==0.2.15->-r ../requirements.txt (line 8)) (1.33)\n",
      "Requirement already satisfied: msgpack<2.0.0,>=1.1.0 in /home/ec2-user/anaconda3/envs/python3/lib/python3.10/site-packages (from langgraph-checkpoint<3.0.0,>=2.0.0->langgraph->-r ../requirements.txt (line 1)) (1.1.0)\n",
      "Requirement already satisfied: httpx-sse>=0.4.0 in /home/ec2-user/anaconda3/envs/python3/lib/python3.10/site-packages (from langgraph-sdk<0.2.0,>=0.1.32->langgraph->-r ../requirements.txt (line 1)) (0.4.0)\n",
      "Requirement already satisfied: orjson>=3.10.1 in /home/ec2-user/anaconda3/envs/python3/lib/python3.10/site-packages (from langgraph-sdk<0.2.0,>=0.1.32->langgraph->-r ../requirements.txt (line 1)) (3.10.11)\n",
      "Requirement already satisfied: requests-toolbelt<2.0.0,>=1.0.0 in /home/ec2-user/anaconda3/envs/python3/lib/python3.10/site-packages (from langsmith<0.2.0,>=0.1.17->langchain==0.2.15->-r ../requirements.txt (line 8)) (1.0.0)\n",
      "Requirement already satisfied: contourpy>=1.0.1 in /home/ec2-user/anaconda3/envs/python3/lib/python3.10/site-packages (from matplotlib!=3.6.1,>=3.4->seaborn->-r ../requirements.txt (line 18)) (1.3.0)\n",
      "Requirement already satisfied: cycler>=0.10 in /home/ec2-user/anaconda3/envs/python3/lib/python3.10/site-packages (from matplotlib!=3.6.1,>=3.4->seaborn->-r ../requirements.txt (line 18)) (0.12.1)\n",
      "Requirement already satisfied: fonttools>=4.22.0 in /home/ec2-user/anaconda3/envs/python3/lib/python3.10/site-packages (from matplotlib!=3.6.1,>=3.4->seaborn->-r ../requirements.txt (line 18)) (4.54.1)\n",
      "Requirement already satisfied: kiwisolver>=1.3.1 in /home/ec2-user/anaconda3/envs/python3/lib/python3.10/site-packages (from matplotlib!=3.6.1,>=3.4->seaborn->-r ../requirements.txt (line 18)) (1.4.7)\n",
      "Requirement already satisfied: pillow>=8 in /home/ec2-user/anaconda3/envs/python3/lib/python3.10/site-packages (from matplotlib!=3.6.1,>=3.4->seaborn->-r ../requirements.txt (line 18)) (10.4.0)\n",
      "Requirement already satisfied: pyparsing>=2.3.1 in /home/ec2-user/anaconda3/envs/python3/lib/python3.10/site-packages (from matplotlib!=3.6.1,>=3.4->seaborn->-r ../requirements.txt (line 18)) (3.1.4)\n",
      "Requirement already satisfied: python-dateutil>=2.7 in /home/ec2-user/anaconda3/envs/python3/lib/python3.10/site-packages (from matplotlib!=3.6.1,>=3.4->seaborn->-r ../requirements.txt (line 18)) (2.9.0)\n",
      "Requirement already satisfied: tqdm>4 in /home/ec2-user/anaconda3/envs/python3/lib/python3.10/site-packages (from openai<2.0.0,>=1.13.3->crewai==0.51.1->-r ../requirements.txt (line 7)) (4.66.5)\n",
      "Requirement already satisfied: deprecated>=1.2.6 in /home/ec2-user/anaconda3/envs/python3/lib/python3.10/site-packages (from opentelemetry-api<2.0.0,>=1.22.0->crewai==0.51.1->-r ../requirements.txt (line 7)) (1.2.14)\n",
      "Requirement already satisfied: importlib-metadata<=8.4.0,>=6.0 in /home/ec2-user/anaconda3/envs/python3/lib/python3.10/site-packages (from opentelemetry-api<2.0.0,>=1.22.0->crewai==0.51.1->-r ../requirements.txt (line 7)) (6.11.0)\n",
      "Requirement already satisfied: googleapis-common-protos~=1.52 in /home/ec2-user/anaconda3/envs/python3/lib/python3.10/site-packages (from opentelemetry-exporter-otlp-proto-http<2.0.0,>=1.22.0->crewai==0.51.1->-r ../requirements.txt (line 7)) (1.65.0)\n",
      "Requirement already satisfied: opentelemetry-exporter-otlp-proto-common==1.27.0 in /home/ec2-user/anaconda3/envs/python3/lib/python3.10/site-packages (from opentelemetry-exporter-otlp-proto-http<2.0.0,>=1.22.0->crewai==0.51.1->-r ../requirements.txt (line 7)) (1.27.0)\n",
      "Requirement already satisfied: opentelemetry-proto==1.27.0 in /home/ec2-user/anaconda3/envs/python3/lib/python3.10/site-packages (from opentelemetry-exporter-otlp-proto-http<2.0.0,>=1.22.0->crewai==0.51.1->-r ../requirements.txt (line 7)) (1.27.0)\n",
      "Requirement already satisfied: protobuf<5.0,>=3.19 in /home/ec2-user/anaconda3/envs/python3/lib/python3.10/site-packages (from opentelemetry-proto==1.27.0->opentelemetry-exporter-otlp-proto-http<2.0.0,>=1.22.0->crewai==0.51.1->-r ../requirements.txt (line 7)) (4.25.5)\n",
      "Requirement already satisfied: opentelemetry-semantic-conventions==0.48b0 in /home/ec2-user/anaconda3/envs/python3/lib/python3.10/site-packages (from opentelemetry-sdk<2.0.0,>=1.22.0->crewai==0.51.1->-r ../requirements.txt (line 7)) (0.48b0)\n",
      "Requirement already satisfied: pytz>=2020.1 in /home/ec2-user/anaconda3/envs/python3/lib/python3.10/site-packages (from pandas>=1.2->seaborn->-r ../requirements.txt (line 18)) (2024.2)\n",
      "Requirement already satisfied: six in /home/ec2-user/anaconda3/envs/python3/lib/python3.10/site-packages (from patsy>=0.5.6->statsmodels->-r ../requirements.txt (line 19)) (1.16.0)\n",
      "Requirement already satisfied: charset-normalizer<4,>=2 in /home/ec2-user/anaconda3/envs/python3/lib/python3.10/site-packages (from requests<3,>=2->langchain==0.2.15->-r ../requirements.txt (line 8)) (3.3.2)\n",
      "Requirement already satisfied: urllib3<3,>=1.21.1 in /home/ec2-user/anaconda3/envs/python3/lib/python3.10/site-packages (from requests<3,>=2->langchain==0.2.15->-r ../requirements.txt (line 8)) (2.2.3)\n",
      "Requirement already satisfied: huggingface-hub<1.0,>=0.16.4 in /home/ec2-user/anaconda3/envs/python3/lib/python3.10/site-packages (from tokenizers>=0.13.0->anthropic->-r ../requirements.txt (line 16)) (0.26.2)\n",
      "Requirement already satisfied: Mako in /home/ec2-user/anaconda3/envs/python3/lib/python3.10/site-packages (from alembic<2.0.0,>=1.13.1->embedchain<0.2.0,>=0.1.114->crewai==0.51.1->-r ../requirements.txt (line 7)) (1.3.5)\n",
      "Requirement already satisfied: soupsieve>1.2 in /home/ec2-user/anaconda3/envs/python3/lib/python3.10/site-packages (from beautifulsoup4<5.0.0,>=4.12.2->embedchain<0.2.0,>=0.1.114->crewai==0.51.1->-r ../requirements.txt (line 7)) (2.5)\n",
      "Requirement already satisfied: build>=1.0.3 in /home/ec2-user/anaconda3/envs/python3/lib/python3.10/site-packages (from chromadb<0.5.0,>=0.4.24->embedchain<0.2.0,>=0.1.114->crewai==0.51.1->-r ../requirements.txt (line 7)) (1.2.2.post1)\n",
      "Requirement already satisfied: chroma-hnswlib==0.7.3 in /home/ec2-user/anaconda3/envs/python3/lib/python3.10/site-packages (from chromadb<0.5.0,>=0.4.24->embedchain<0.2.0,>=0.1.114->crewai==0.51.1->-r ../requirements.txt (line 7)) (0.7.3)\n",
      "Requirement already satisfied: pulsar-client>=3.1.0 in /home/ec2-user/anaconda3/envs/python3/lib/python3.10/site-packages (from chromadb<0.5.0,>=0.4.24->embedchain<0.2.0,>=0.1.114->crewai==0.51.1->-r ../requirements.txt (line 7)) (3.5.0)\n",
      "Requirement already satisfied: onnxruntime>=1.14.1 in /home/ec2-user/anaconda3/envs/python3/lib/python3.10/site-packages (from chromadb<0.5.0,>=0.4.24->embedchain<0.2.0,>=0.1.114->crewai==0.51.1->-r ../requirements.txt (line 7)) (1.16.3)\n",
      "Requirement already satisfied: opentelemetry-exporter-otlp-proto-grpc>=1.2.0 in /home/ec2-user/anaconda3/envs/python3/lib/python3.10/site-packages (from chromadb<0.5.0,>=0.4.24->embedchain<0.2.0,>=0.1.114->crewai==0.51.1->-r ../requirements.txt (line 7)) (1.27.0)\n",
      "Requirement already satisfied: opentelemetry-instrumentation-fastapi>=0.41b0 in /home/ec2-user/anaconda3/envs/python3/lib/python3.10/site-packages (from chromadb<0.5.0,>=0.4.24->embedchain<0.2.0,>=0.1.114->crewai==0.51.1->-r ../requirements.txt (line 7)) (0.48b0)\n",
      "Requirement already satisfied: pypika>=0.48.9 in /home/ec2-user/anaconda3/envs/python3/lib/python3.10/site-packages (from chromadb<0.5.0,>=0.4.24->embedchain<0.2.0,>=0.1.114->crewai==0.51.1->-r ../requirements.txt (line 7)) (0.48.9)\n",
      "Requirement already satisfied: overrides>=7.3.1 in /home/ec2-user/anaconda3/envs/python3/lib/python3.10/site-packages (from chromadb<0.5.0,>=0.4.24->embedchain<0.2.0,>=0.1.114->crewai==0.51.1->-r ../requirements.txt (line 7)) (7.7.0)\n",
      "Requirement already satisfied: importlib-resources in /home/ec2-user/anaconda3/envs/python3/lib/python3.10/site-packages (from chromadb<0.5.0,>=0.4.24->embedchain<0.2.0,>=0.1.114->crewai==0.51.1->-r ../requirements.txt (line 7)) (6.4.5)\n",
      "Requirement already satisfied: grpcio>=1.58.0 in /home/ec2-user/anaconda3/envs/python3/lib/python3.10/site-packages (from chromadb<0.5.0,>=0.4.24->embedchain<0.2.0,>=0.1.114->crewai==0.51.1->-r ../requirements.txt (line 7)) (1.67.1)\n",
      "Requirement already satisfied: bcrypt>=4.0.1 in /home/ec2-user/anaconda3/envs/python3/lib/python3.10/site-packages (from chromadb<0.5.0,>=0.4.24->embedchain<0.2.0,>=0.1.114->crewai==0.51.1->-r ../requirements.txt (line 7)) (4.2.0)\n",
      "Requirement already satisfied: kubernetes>=28.1.0 in /home/ec2-user/anaconda3/envs/python3/lib/python3.10/site-packages (from chromadb<0.5.0,>=0.4.24->embedchain<0.2.0,>=0.1.114->crewai==0.51.1->-r ../requirements.txt (line 7)) (30.1.0)\n",
      "Requirement already satisfied: mmh3>=4.0.1 in /home/ec2-user/anaconda3/envs/python3/lib/python3.10/site-packages (from chromadb<0.5.0,>=0.4.24->embedchain<0.2.0,>=0.1.114->crewai==0.51.1->-r ../requirements.txt (line 7)) (5.0.1)\n",
      "Requirement already satisfied: fastavro<2.0.0,>=1.9.4 in /home/ec2-user/anaconda3/envs/python3/lib/python3.10/site-packages (from cohere<6.0,>=5.3->embedchain<0.2.0,>=0.1.114->crewai==0.51.1->-r ../requirements.txt (line 7)) (1.9.7)\n",
      "Requirement already satisfied: parameterized<0.10.0,>=0.9.0 in /home/ec2-user/anaconda3/envs/python3/lib/python3.10/site-packages (from cohere<6.0,>=5.3->embedchain<0.2.0,>=0.1.114->crewai==0.51.1->-r ../requirements.txt (line 7)) (0.9.0)\n",
      "Requirement already satisfied: types-requests<3.0.0,>=2.0.0 in /home/ec2-user/anaconda3/envs/python3/lib/python3.10/site-packages (from cohere<6.0,>=5.3->embedchain<0.2.0,>=0.1.114->crewai==0.51.1->-r ../requirements.txt (line 7)) (2.32.0.20241016)\n",
      "Requirement already satisfied: wrapt<2,>=1.10 in /home/ec2-user/anaconda3/envs/python3/lib/python3.10/site-packages (from deprecated>=1.2.6->opentelemetry-api<2.0.0,>=1.22.0->crewai==0.51.1->-r ../requirements.txt (line 7)) (1.16.0)\n",
      "Requirement already satisfied: google-api-core!=2.0.*,!=2.1.*,!=2.2.*,!=2.3.*,!=2.4.*,!=2.5.*,!=2.6.*,!=2.7.*,<3.0.0dev,>=1.34.1 in /home/ec2-user/anaconda3/envs/python3/lib/python3.10/site-packages (from google-api-core[grpc]!=2.0.*,!=2.1.*,!=2.2.*,!=2.3.*,!=2.4.*,!=2.5.*,!=2.6.*,!=2.7.*,<3.0.0dev,>=1.34.1->google-cloud-aiplatform<2.0.0,>=1.26.1->embedchain<0.2.0,>=0.1.114->crewai==0.51.1->-r ../requirements.txt (line 7)) (2.22.0)\n",
      "Requirement already satisfied: google-auth<3.0.0dev,>=2.14.1 in /home/ec2-user/anaconda3/envs/python3/lib/python3.10/site-packages (from google-cloud-aiplatform<2.0.0,>=1.26.1->embedchain<0.2.0,>=0.1.114->crewai==0.51.1->-r ../requirements.txt (line 7)) (2.35.0)\n",
      "Requirement already satisfied: proto-plus<2.0.0dev,>=1.22.3 in /home/ec2-user/anaconda3/envs/python3/lib/python3.10/site-packages (from google-cloud-aiplatform<2.0.0,>=1.26.1->embedchain<0.2.0,>=0.1.114->crewai==0.51.1->-r ../requirements.txt (line 7)) (1.25.0)\n",
      "Requirement already satisfied: google-cloud-storage<3.0.0dev,>=1.32.0 in /home/ec2-user/anaconda3/envs/python3/lib/python3.10/site-packages (from google-cloud-aiplatform<2.0.0,>=1.26.1->embedchain<0.2.0,>=0.1.114->crewai==0.51.1->-r ../requirements.txt (line 7)) (2.18.2)\n",
      "Requirement already satisfied: google-cloud-bigquery!=3.20.0,<4.0.0dev,>=1.15.0 in /home/ec2-user/anaconda3/envs/python3/lib/python3.10/site-packages (from google-cloud-aiplatform<2.0.0,>=1.26.1->embedchain<0.2.0,>=0.1.114->crewai==0.51.1->-r ../requirements.txt (line 7)) (3.26.0)\n",
      "Requirement already satisfied: google-cloud-resource-manager<3.0.0dev,>=1.3.3 in /home/ec2-user/anaconda3/envs/python3/lib/python3.10/site-packages (from google-cloud-aiplatform<2.0.0,>=1.26.1->embedchain<0.2.0,>=0.1.114->crewai==0.51.1->-r ../requirements.txt (line 7)) (1.13.0)\n",
      "Requirement already satisfied: shapely<3.0.0dev in /home/ec2-user/anaconda3/envs/python3/lib/python3.10/site-packages (from google-cloud-aiplatform<2.0.0,>=1.26.1->embedchain<0.2.0,>=0.1.114->crewai==0.51.1->-r ../requirements.txt (line 7)) (2.0.6)\n",
      "Requirement already satisfied: cachetools in /home/ec2-user/anaconda3/envs/python3/lib/python3.10/site-packages (from gptcache<0.2.0,>=0.1.43->embedchain<0.2.0,>=0.1.114->crewai==0.51.1->-r ../requirements.txt (line 7)) (5.5.0)\n",
      "Requirement already satisfied: filelock in /home/ec2-user/anaconda3/envs/python3/lib/python3.10/site-packages (from huggingface-hub<1.0,>=0.16.4->tokenizers>=0.13.0->anthropic->-r ../requirements.txt (line 16)) (3.16.1)\n",
      "Requirement already satisfied: fsspec>=2023.5.0 in /home/ec2-user/anaconda3/envs/python3/lib/python3.10/site-packages (from huggingface-hub<1.0,>=0.16.4->tokenizers>=0.13.0->anthropic->-r ../requirements.txt (line 16)) (2024.9.0)\n",
      "Requirement already satisfied: zipp>=0.5 in /home/ec2-user/anaconda3/envs/python3/lib/python3.10/site-packages (from importlib-metadata<=8.4.0,>=6.0->opentelemetry-api<2.0.0,>=1.22.0->crewai==0.51.1->-r ../requirements.txt (line 7)) (3.20.2)\n",
      "Requirement already satisfied: jsonpointer>=1.9 in /home/ec2-user/anaconda3/envs/python3/lib/python3.10/site-packages (from jsonpatch<2.0,>=1.33->langchain-core<0.3.0,>=0.2.35->langchain==0.2.15->-r ../requirements.txt (line 8)) (3.0.0)\n",
      "Requirement already satisfied: langchain-experimental>=0.0.6 in /home/ec2-user/anaconda3/envs/python3/lib/python3.10/site-packages (from langchain-cohere<0.2.0,>=0.1.4->embedchain<0.2.0,>=0.1.114->crewai==0.51.1->-r ../requirements.txt (line 7)) (0.0.64)\n",
      "Requirement already satisfied: tabulate<0.10.0,>=0.9.0 in /home/ec2-user/anaconda3/envs/python3/lib/python3.10/site-packages (from langchain-cohere<0.2.0,>=0.1.4->embedchain<0.2.0,>=0.1.114->crewai==0.51.1->-r ../requirements.txt (line 7)) (0.9.0)\n",
      "Requirement already satisfied: dataclasses-json<0.7,>=0.5.7 in /home/ec2-user/anaconda3/envs/python3/lib/python3.10/site-packages (from langchain-community<0.3.0,>=0.2.6->embedchain<0.2.0,>=0.1.114->crewai==0.51.1->-r ../requirements.txt (line 7)) (0.6.7)\n",
      "Requirement already satisfied: qdrant-client<2.0.0,>=1.9.1 in /home/ec2-user/anaconda3/envs/python3/lib/python3.10/site-packages (from mem0ai<0.2.0,>=0.1.15->embedchain<0.2.0,>=0.1.114->crewai==0.51.1->-r ../requirements.txt (line 7)) (1.12.1)\n",
      "Requirement already satisfied: monotonic>=1.5 in /home/ec2-user/anaconda3/envs/python3/lib/python3.10/site-packages (from posthog<4.0.0,>=3.0.2->embedchain<0.2.0,>=0.1.114->crewai==0.51.1->-r ../requirements.txt (line 7)) (1.6)\n",
      "Requirement already satisfied: backoff>=1.10.0 in /home/ec2-user/anaconda3/envs/python3/lib/python3.10/site-packages (from posthog<4.0.0,>=3.0.2->embedchain<0.2.0,>=0.1.114->crewai==0.51.1->-r ../requirements.txt (line 7)) (2.2.1)\n",
      "Requirement already satisfied: markdown-it-py>=2.2.0 in /home/ec2-user/anaconda3/envs/python3/lib/python3.10/site-packages (from rich<14.0.0,>=13.7.0->instructor==1.3.3->crewai==0.51.1->-r ../requirements.txt (line 7)) (3.0.0)\n",
      "Requirement already satisfied: pygments<3.0.0,>=2.13.0 in /home/ec2-user/anaconda3/envs/python3/lib/python3.10/site-packages (from rich<14.0.0,>=13.7.0->instructor==1.3.3->crewai==0.51.1->-r ../requirements.txt (line 7)) (2.18.0)\n",
      "Requirement already satisfied: shellingham>=1.3.0 in /home/ec2-user/anaconda3/envs/python3/lib/python3.10/site-packages (from typer<1.0.0,>=0.9.0->instructor==1.3.3->crewai==0.51.1->-r ../requirements.txt (line 7)) (1.5.4)\n",
      "Requirement already satisfied: pyproject_hooks in /home/ec2-user/anaconda3/envs/python3/lib/python3.10/site-packages (from build>=1.0.3->chromadb<0.5.0,>=0.4.24->embedchain<0.2.0,>=0.1.114->crewai==0.51.1->-r ../requirements.txt (line 7)) (1.2.0)\n",
      "Requirement already satisfied: tomli>=1.1.0 in /home/ec2-user/anaconda3/envs/python3/lib/python3.10/site-packages (from build>=1.0.3->chromadb<0.5.0,>=0.4.24->embedchain<0.2.0,>=0.1.114->crewai==0.51.1->-r ../requirements.txt (line 7)) (2.0.1)\n",
      "Requirement already satisfied: marshmallow<4.0.0,>=3.18.0 in /home/ec2-user/anaconda3/envs/python3/lib/python3.10/site-packages (from dataclasses-json<0.7,>=0.5.7->langchain-community<0.3.0,>=0.2.6->embedchain<0.2.0,>=0.1.114->crewai==0.51.1->-r ../requirements.txt (line 7)) (3.23.1)\n",
      "Requirement already satisfied: typing-inspect<1,>=0.4.0 in /home/ec2-user/anaconda3/envs/python3/lib/python3.10/site-packages (from dataclasses-json<0.7,>=0.5.7->langchain-community<0.3.0,>=0.2.6->embedchain<0.2.0,>=0.1.114->crewai==0.51.1->-r ../requirements.txt (line 7)) (0.9.0)\n",
      "Requirement already satisfied: grpcio-status<2.0.dev0,>=1.33.2 in /home/ec2-user/anaconda3/envs/python3/lib/python3.10/site-packages (from google-api-core[grpc]!=2.0.*,!=2.1.*,!=2.2.*,!=2.3.*,!=2.4.*,!=2.5.*,!=2.6.*,!=2.7.*,<3.0.0dev,>=1.34.1->google-cloud-aiplatform<2.0.0,>=1.26.1->embedchain<0.2.0,>=0.1.114->crewai==0.51.1->-r ../requirements.txt (line 7)) (1.62.3)\n",
      "Requirement already satisfied: pyasn1-modules>=0.2.1 in /home/ec2-user/anaconda3/envs/python3/lib/python3.10/site-packages (from google-auth<3.0.0dev,>=2.14.1->google-cloud-aiplatform<2.0.0,>=1.26.1->embedchain<0.2.0,>=0.1.114->crewai==0.51.1->-r ../requirements.txt (line 7)) (0.4.1)\n",
      "Requirement already satisfied: rsa<5,>=3.1.4 in /home/ec2-user/anaconda3/envs/python3/lib/python3.10/site-packages (from google-auth<3.0.0dev,>=2.14.1->google-cloud-aiplatform<2.0.0,>=1.26.1->embedchain<0.2.0,>=0.1.114->crewai==0.51.1->-r ../requirements.txt (line 7)) (4.7.2)\n",
      "Requirement already satisfied: google-cloud-core<3.0.0dev,>=2.4.1 in /home/ec2-user/anaconda3/envs/python3/lib/python3.10/site-packages (from google-cloud-bigquery!=3.20.0,<4.0.0dev,>=1.15.0->google-cloud-aiplatform<2.0.0,>=1.26.1->embedchain<0.2.0,>=0.1.114->crewai==0.51.1->-r ../requirements.txt (line 7)) (2.4.1)\n",
      "Requirement already satisfied: google-resumable-media<3.0dev,>=2.0.0 in /home/ec2-user/anaconda3/envs/python3/lib/python3.10/site-packages (from google-cloud-bigquery!=3.20.0,<4.0.0dev,>=1.15.0->google-cloud-aiplatform<2.0.0,>=1.26.1->embedchain<0.2.0,>=0.1.114->crewai==0.51.1->-r ../requirements.txt (line 7)) (2.7.2)\n",
      "Requirement already satisfied: grpc-google-iam-v1<1.0.0dev,>=0.12.4 in /home/ec2-user/anaconda3/envs/python3/lib/python3.10/site-packages (from google-cloud-resource-manager<3.0.0dev,>=1.3.3->google-cloud-aiplatform<2.0.0,>=1.26.1->embedchain<0.2.0,>=0.1.114->crewai==0.51.1->-r ../requirements.txt (line 7)) (0.13.1)\n",
      "Requirement already satisfied: google-crc32c<2.0dev,>=1.0 in /home/ec2-user/anaconda3/envs/python3/lib/python3.10/site-packages (from google-cloud-storage<3.0.0dev,>=1.32.0->google-cloud-aiplatform<2.0.0,>=1.26.1->embedchain<0.2.0,>=0.1.114->crewai==0.51.1->-r ../requirements.txt (line 7)) (1.6.0)\n",
      "Requirement already satisfied: websocket-client!=0.40.0,!=0.41.*,!=0.42.*,>=0.32.0 in /home/ec2-user/anaconda3/envs/python3/lib/python3.10/site-packages (from kubernetes>=28.1.0->chromadb<0.5.0,>=0.4.24->embedchain<0.2.0,>=0.1.114->crewai==0.51.1->-r ../requirements.txt (line 7)) (1.8.0)\n",
      "Requirement already satisfied: requests-oauthlib in /home/ec2-user/anaconda3/envs/python3/lib/python3.10/site-packages (from kubernetes>=28.1.0->chromadb<0.5.0,>=0.4.24->embedchain<0.2.0,>=0.1.114->crewai==0.51.1->-r ../requirements.txt (line 7)) (2.0.0)\n",
      "Requirement already satisfied: oauthlib>=3.2.2 in /home/ec2-user/anaconda3/envs/python3/lib/python3.10/site-packages (from kubernetes>=28.1.0->chromadb<0.5.0,>=0.4.24->embedchain<0.2.0,>=0.1.114->crewai==0.51.1->-r ../requirements.txt (line 7)) (3.2.2)\n",
      "Requirement already satisfied: mdurl~=0.1 in /home/ec2-user/anaconda3/envs/python3/lib/python3.10/site-packages (from markdown-it-py>=2.2.0->rich<14.0.0,>=13.7.0->instructor==1.3.3->crewai==0.51.1->-r ../requirements.txt (line 7)) (0.1.2)\n",
      "Requirement already satisfied: coloredlogs in /home/ec2-user/anaconda3/envs/python3/lib/python3.10/site-packages (from onnxruntime>=1.14.1->chromadb<0.5.0,>=0.4.24->embedchain<0.2.0,>=0.1.114->crewai==0.51.1->-r ../requirements.txt (line 7)) (15.0.1)\n",
      "Requirement already satisfied: flatbuffers in /home/ec2-user/anaconda3/envs/python3/lib/python3.10/site-packages (from onnxruntime>=1.14.1->chromadb<0.5.0,>=0.4.24->embedchain<0.2.0,>=0.1.114->crewai==0.51.1->-r ../requirements.txt (line 7)) (24.3.25)\n",
      "Requirement already satisfied: sympy in /home/ec2-user/anaconda3/envs/python3/lib/python3.10/site-packages (from onnxruntime>=1.14.1->chromadb<0.5.0,>=0.4.24->embedchain<0.2.0,>=0.1.114->crewai==0.51.1->-r ../requirements.txt (line 7)) (1.13.2)\n",
      "Requirement already satisfied: opentelemetry-instrumentation-asgi==0.48b0 in /home/ec2-user/anaconda3/envs/python3/lib/python3.10/site-packages (from opentelemetry-instrumentation-fastapi>=0.41b0->chromadb<0.5.0,>=0.4.24->embedchain<0.2.0,>=0.1.114->crewai==0.51.1->-r ../requirements.txt (line 7)) (0.48b0)\n",
      "Requirement already satisfied: opentelemetry-instrumentation==0.48b0 in /home/ec2-user/anaconda3/envs/python3/lib/python3.10/site-packages (from opentelemetry-instrumentation-fastapi>=0.41b0->chromadb<0.5.0,>=0.4.24->embedchain<0.2.0,>=0.1.114->crewai==0.51.1->-r ../requirements.txt (line 7)) (0.48b0)\n",
      "Requirement already satisfied: opentelemetry-util-http==0.48b0 in /home/ec2-user/anaconda3/envs/python3/lib/python3.10/site-packages (from opentelemetry-instrumentation-fastapi>=0.41b0->chromadb<0.5.0,>=0.4.24->embedchain<0.2.0,>=0.1.114->crewai==0.51.1->-r ../requirements.txt (line 7)) (0.48b0)\n",
      "Requirement already satisfied: asgiref~=3.0 in /home/ec2-user/anaconda3/envs/python3/lib/python3.10/site-packages (from opentelemetry-instrumentation-asgi==0.48b0->opentelemetry-instrumentation-fastapi>=0.41b0->chromadb<0.5.0,>=0.4.24->embedchain<0.2.0,>=0.1.114->crewai==0.51.1->-r ../requirements.txt (line 7)) (3.8.1)\n",
      "Requirement already satisfied: grpcio-tools>=1.41.0 in /home/ec2-user/anaconda3/envs/python3/lib/python3.10/site-packages (from qdrant-client<2.0.0,>=1.9.1->mem0ai<0.2.0,>=0.1.15->embedchain<0.2.0,>=0.1.114->crewai==0.51.1->-r ../requirements.txt (line 7)) (1.62.3)\n",
      "Requirement already satisfied: portalocker<3.0.0,>=2.7.0 in /home/ec2-user/anaconda3/envs/python3/lib/python3.10/site-packages (from qdrant-client<2.0.0,>=1.9.1->mem0ai<0.2.0,>=0.1.15->embedchain<0.2.0,>=0.1.114->crewai==0.51.1->-r ../requirements.txt (line 7)) (2.10.1)\n",
      "Requirement already satisfied: httptools>=0.5.0 in /home/ec2-user/anaconda3/envs/python3/lib/python3.10/site-packages (from uvicorn[standard]>=0.18.3->chromadb<0.5.0,>=0.4.24->embedchain<0.2.0,>=0.1.114->crewai==0.51.1->-r ../requirements.txt (line 7)) (0.6.4)\n",
      "Requirement already satisfied: uvloop!=0.15.0,!=0.15.1,>=0.14.0 in /home/ec2-user/anaconda3/envs/python3/lib/python3.10/site-packages (from uvicorn[standard]>=0.18.3->chromadb<0.5.0,>=0.4.24->embedchain<0.2.0,>=0.1.114->crewai==0.51.1->-r ../requirements.txt (line 7)) (0.21.0)\n",
      "Requirement already satisfied: watchfiles>=0.13 in /home/ec2-user/anaconda3/envs/python3/lib/python3.10/site-packages (from uvicorn[standard]>=0.18.3->chromadb<0.5.0,>=0.4.24->embedchain<0.2.0,>=0.1.114->crewai==0.51.1->-r ../requirements.txt (line 7)) (0.24.0)\n",
      "Requirement already satisfied: websockets>=10.4 in /home/ec2-user/anaconda3/envs/python3/lib/python3.10/site-packages (from uvicorn[standard]>=0.18.3->chromadb<0.5.0,>=0.4.24->embedchain<0.2.0,>=0.1.114->crewai==0.51.1->-r ../requirements.txt (line 7)) (13.1)\n",
      "Requirement already satisfied: MarkupSafe>=0.9.2 in /home/ec2-user/anaconda3/envs/python3/lib/python3.10/site-packages (from Mako->alembic<2.0.0,>=1.13.1->embedchain<0.2.0,>=0.1.114->crewai==0.51.1->-r ../requirements.txt (line 7)) (2.1.5)\n",
      "Requirement already satisfied: h2<5,>=3 in /home/ec2-user/anaconda3/envs/python3/lib/python3.10/site-packages (from httpx[http2]>=0.20.0->qdrant-client<2.0.0,>=1.9.1->mem0ai<0.2.0,>=0.1.15->embedchain<0.2.0,>=0.1.114->crewai==0.51.1->-r ../requirements.txt (line 7)) (4.1.0)\n",
      "Requirement already satisfied: pyasn1<0.7.0,>=0.4.6 in /home/ec2-user/anaconda3/envs/python3/lib/python3.10/site-packages (from pyasn1-modules>=0.2.1->google-auth<3.0.0dev,>=2.14.1->google-cloud-aiplatform<2.0.0,>=1.26.1->embedchain<0.2.0,>=0.1.114->crewai==0.51.1->-r ../requirements.txt (line 7)) (0.6.1)\n",
      "Requirement already satisfied: mypy-extensions>=0.3.0 in /home/ec2-user/anaconda3/envs/python3/lib/python3.10/site-packages (from typing-inspect<1,>=0.4.0->dataclasses-json<0.7,>=0.5.7->langchain-community<0.3.0,>=0.2.6->embedchain<0.2.0,>=0.1.114->crewai==0.51.1->-r ../requirements.txt (line 7)) (1.0.0)\n",
      "Requirement already satisfied: humanfriendly>=9.1 in /home/ec2-user/anaconda3/envs/python3/lib/python3.10/site-packages (from coloredlogs->onnxruntime>=1.14.1->chromadb<0.5.0,>=0.4.24->embedchain<0.2.0,>=0.1.114->crewai==0.51.1->-r ../requirements.txt (line 7)) (10.0)\n",
      "Requirement already satisfied: mpmath<1.4,>=1.1.0 in /home/ec2-user/anaconda3/envs/python3/lib/python3.10/site-packages (from sympy->onnxruntime>=1.14.1->chromadb<0.5.0,>=0.4.24->embedchain<0.2.0,>=0.1.114->crewai==0.51.1->-r ../requirements.txt (line 7)) (1.3.0)\n",
      "Requirement already satisfied: hyperframe<7,>=6.0 in /home/ec2-user/anaconda3/envs/python3/lib/python3.10/site-packages (from h2<5,>=3->httpx[http2]>=0.20.0->qdrant-client<2.0.0,>=1.9.1->mem0ai<0.2.0,>=0.1.15->embedchain<0.2.0,>=0.1.114->crewai==0.51.1->-r ../requirements.txt (line 7)) (6.0.1)\n",
      "Requirement already satisfied: hpack<5,>=4.0 in /home/ec2-user/anaconda3/envs/python3/lib/python3.10/site-packages (from h2<5,>=3->httpx[http2]>=0.20.0->qdrant-client<2.0.0,>=1.9.1->mem0ai<0.2.0,>=0.1.15->embedchain<0.2.0,>=0.1.114->crewai==0.51.1->-r ../requirements.txt (line 7)) (4.0.0)\n"
     ]
    }
   ],
   "source": [
    "!pip install -r ../requirements.txt"
   ]
  },
  {
   "cell_type": "code",
   "execution_count": 2,
   "id": "4c21c314-ebd8-495c-b845-1f95ddd321bb",
   "metadata": {
    "tags": []
   },
   "outputs": [],
   "source": [
    "import dotenv\n",
    "assert dotenv.load_dotenv()"
   ]
  },
  {
   "cell_type": "code",
   "execution_count": 3,
   "id": "2db55285-b2dc-4976-9a32-826cb0b512f6",
   "metadata": {
    "tags": []
   },
   "outputs": [],
   "source": [
    "# Import required libraries\n",
    "import os\n",
    "from langchain_aws import ChatBedrock\n",
    "\n",
    "# Set up the model ID for Claude\n",
    "MODEL_ID3 = \"meta.llama3-8b-instruct-v1:0\"\n",
    "MODEL_ID5 = \"meta.llama3-70b-instruct-v1:0\"\n",
    "#MODEL_ID = \"mistral.mistral-7b-instruct-v0:2\"\n",
    "MODEL_ID4 = \"mistral.mixtral-8x7b-instruct-v0:1\"\n",
    "MODEL_ID2 = \"anthropic.claude-3-haiku-20240307-v1:0\"\n",
    "MODEL_ID = \"anthropic.claude-3-5-sonnet-20240620-v1:0\"\n",
    "MODEL_ID6 = \"anthropic.claude-3-5-sonnet-20241022-v2:0\"\n",
    "\n",
    "HEADERS = {\n",
    "    # \"anthropic-beta\": \"max-tokens-3-5-sonnet-2024-07-15\",\n",
    "    \"Content-Type\": \"application/json\"\n",
    "}\n",
    "\n",
    "\n",
    "\n",
    "# Initialize the ChatBedrock instance\n",
    "llm = ChatBedrock(model_id=MODEL_ID, model_kwargs={'temperature': 0, \"max_tokens\": 81920, 'top_p': 0.9, 'top_k': 100}) # \n",
    "llm2 = ChatBedrock(model_id=MODEL_ID2, model_kwargs={'temperature': 0})\n",
    "llm3 = ChatBedrock(model_id=MODEL_ID4, model_kwargs={'temperature': 0})\n",
    "llm4 = ChatBedrock(model_id=MODEL_ID, model_kwargs={'temperature': 0.7})"
   ]
  },
  {
   "cell_type": "code",
   "execution_count": 4,
   "id": "6c7959d4-1ffb-4561-ab66-8a4512ece52c",
   "metadata": {
    "tags": []
   },
   "outputs": [
    {
     "name": "stdout",
     "output_type": "stream",
     "text": [
      "content=\"Based on the PIRLS 2021 results, COVID-19 generally had a negative impact on reading abilities:\\n\\n1. Overall decline: Many countries saw a decline in average reading scores compared to previous PIRLS cycles.\\n\\n2. Varied impact: The extent of the impact varied across countries, with some experiencing more significant declines than others.\\n\\n3. Learning loss: School closures and disruptions to education likely contributed to learning losses in reading skills.\\n\\n4. Widened gaps: Existing achievement gaps between different socioeconomic groups may have widened due to unequal access to remote learning resources.\\n\\n5. Resilience: Some countries managed to maintain or even slightly improve their scores, showing resilience in their education systems.\\n\\n6. Long-term effects: The full impact of COVID-19 on reading abilities may not be fully apparent yet and could have longer-term consequences.\\n\\nIt's important to note that while COVID-19 likely played a significant role in these changes, other factors may have also contributed to the observed trends.\" additional_kwargs={'usage': {'prompt_tokens': 40, 'completion_tokens': 226, 'total_tokens': 266}, 'stop_reason': 'end_turn', 'model_id': 'anthropic.claude-3-5-sonnet-20240620-v1:0'} response_metadata={'usage': {'prompt_tokens': 40, 'completion_tokens': 226, 'total_tokens': 266}, 'stop_reason': 'end_turn', 'model_id': 'anthropic.claude-3-5-sonnet-20240620-v1:0'} id='run-b088105b-fc6a-42a5-9414-1acb065993f0-0' usage_metadata={'input_tokens': 40, 'output_tokens': 226, 'total_tokens': 266}\n"
     ]
    }
   ],
   "source": [
    "message = [\n",
    "    (\"system\", \"You are a helpful assistant that provides concise information on PIRLS 2021 results.\"),\n",
    "    (\"human\", \"What impact did COVID-19 have on reading abilities?'\")\n",
    "]\n",
    "\n",
    "response = llm.invoke(message)\n",
    "print(response)"
   ]
  },
  {
   "cell_type": "code",
   "execution_count": 5,
   "id": "90dc202a-e7e6-4f7a-9ae8-6dd6519810c4",
   "metadata": {
    "tags": []
   },
   "outputs": [
    {
     "name": "stdout",
     "output_type": "stream",
     "text": [
      "sagemaker.config INFO - Not applying SDK defaults from location: /etc/xdg/sagemaker/config.yaml\n",
      "sagemaker.config INFO - Not applying SDK defaults from location: /home/ec2-user/.config/sagemaker/config.yaml\n"
     ]
    }
   ],
   "source": [
    "import tools.csv_handling as csv_tools\n",
    "import tools.database as db_tools\n",
    "import tools.web_crawl as web_tools\n",
    "import tools.data_viz as viz_tools\n",
    "# import tools.pdf_handling as pdf_tools\n",
    "# import tools.stats as stats_tools\n",
    "import tools.stats_analysis as stats_analysis_tools\n",
    "# import tools.reasoning as reasoning_tools"
   ]
  },
  {
   "cell_type": "code",
   "execution_count": 6,
   "id": "9fbd4f28-d1c6-4fb6-8085-5d0a97fe8c84",
   "metadata": {
    "tags": []
   },
   "outputs": [],
   "source": [
    "tools_researcher = [db_tools.query_database, db_tools.get_possible_answers_to_question, db_tools.get_questions_of_given_type]\n",
    "\n",
    "tools_chart = [viz_tools.custom_plot_from_string_to_s3]\n",
    "\n",
    "tools_web = [web_tools.get_unesco_data, web_tools.crawl_subpages, web_tools.scrape_text, web_tools.duckduckgo_search] \n",
    "\n",
    "tools_file = [csv_tools.process_first_sheet_to_json_from_url, csv_tools.extract_table_from_url_to_string_with_auto_cleanup]\n",
    "\n",
    "# tools_pdf = [pdf_tools.extract_top_paragraphs_from_url]\n",
    "\n",
    "# tools_stats = [stats_tools.analyze_pirls_data]\n",
    "\n",
    "tools_stats_analysis = [stats_analysis_tools.calculate_pearson_multiple, stats_analysis_tools.calculate_quantile_regression_multiple]\n",
    "\n",
    "# tools_reasoning = [reasoning_tools.generate_sub_questions]\n",
    "\n",
    "tools = tools_researcher + tools_chart + tools_file + tools_web + tools_stats_analysis # + tools_pdf # + tools_stats_analysis + tools_reasoning"
   ]
  },
  {
   "cell_type": "code",
   "execution_count": 7,
   "id": "3e44e100-6cfb-4ce2-b098-e0c743dcb483",
   "metadata": {
    "tags": []
   },
   "outputs": [],
   "source": [
    "from langgraph.graph import StateGraph, END\n",
    "from typing import TypedDict, Annotated\n",
    "import operator\n",
    "from langchain_core.messages import AnyMessage, SystemMessage, HumanMessage, ToolMessage\n",
    "# from langchain_community.embeddings import HuggingFaceBgeEmbeddings"
   ]
  },
  {
   "cell_type": "code",
   "execution_count": 8,
   "id": "a76fe9df-36e5-4d45-b9e5-a5da4e5f2f8b",
   "metadata": {
    "tags": []
   },
   "outputs": [],
   "source": [
    "class AgentState(TypedDict):\n",
    "    messages: Annotated[list[AnyMessage], operator.add]"
   ]
  },
  {
   "cell_type": "code",
   "execution_count": 9,
   "id": "29219414-0f8a-46ff-8797-10bef766efd3",
   "metadata": {
    "tags": []
   },
   "outputs": [],
   "source": [
    "class SQLAgent:\n",
    "    def __init__(self, model, tools, system_prompt=\"\"):\n",
    "        self.system_prompt = system_prompt\n",
    "        \n",
    "        # initialising graph with a state \n",
    "        graph = StateGraph(AgentState)\n",
    "        \n",
    "        # adding nodes \n",
    "        graph.add_node(\"llm\", self.call_llm)\n",
    "        graph.add_node(\"function\", self.execute_function)\n",
    "        graph.add_conditional_edges(\n",
    "            \"llm\",\n",
    "            self.exists_function_calling,\n",
    "            {True: \"function\", False: END}\n",
    "            )\n",
    "        graph.add_edge(\"function\", \"llm\")\n",
    "        \n",
    "        # setting starting point\n",
    "        graph.set_entry_point(\"llm\")\n",
    "        \n",
    "        self.graph = graph.compile()\n",
    "        self.tools = {t.name: t for t in tools}\n",
    "        self.model = model.bind_tools(tools)\n",
    "\n",
    "    def exists_function_calling(self, state: AgentState):\n",
    "        result = state['messages'][-1]\n",
    "        return len(result.tool_calls) > 0\n",
    "\n",
    "    def call_llm(self, state: AgentState):\n",
    "        messages = state['messages']\n",
    "        if self.system_prompt:\n",
    "            messages = [SystemMessage(content=self.system_prompt)] + messages\n",
    "        message = self.model.invoke(messages)\n",
    "        print(message)\n",
    "        return {'messages': [message]}\n",
    "\n",
    "    def execute_function(self, state: AgentState):\n",
    "        tool_calls = state['messages'][-1].tool_calls\n",
    "        results = []\n",
    "        for t in tool_calls:\n",
    "            print(f\"Calling: {t}\")\n",
    "            if not t['name'] in self.tools:      # check for bad tool name from LLM\n",
    "                print(\"\\n ....bad tool name....\")\n",
    "                result = \"bad tool name, retry\"  # instruct LLM to retry if bad\n",
    "            else:\n",
    "                result = self.tools[t['name']].invoke(t['args'])\n",
    "            results.append(ToolMessage(tool_call_id=t['id'], name=t['name'], content=str(result)))\n",
    "        print(result)\n",
    "        return {'messages': results}\n",
    "    \n",
    "    def run(self, initial_messages):\n",
    "        try:\n",
    "            # Execute the graph and get the final state\n",
    "            final_state = self.graph.invoke({\"messages\": [HumanMessage(content=initial_messages)]}, {\"recursion_limit\": 50})\n",
    "\n",
    "            # Extract the content of the last message\n",
    "            final_message_content = final_state['messages'][-1].content\n",
    "\n",
    "            # Return only the content of the last message\n",
    "            return final_message_content\n",
    "\n",
    "        except Exception as e:\n",
    "            # Return the error message if an exception occurs\n",
    "            return (\"**I'm sorry, but I can't process your request regarding PIRLS 2021 data right now because the server is currently unreachable. Please try again later.**\\n\\n\"\n",
    "                    \"**PIRLS 2021 (Progress in International Reading Literacy Study) is an international assessment that measures the reading achievement of fourth-grade students. \"\n",
    "                    \"Conducted every five years, it provides valuable insights into students' reading abilities and educational environments across different countries. \"\n",
    "                    \"For more information, you can visit the PIRLS 2021 website.**\\n\\n\"\n",
    "                    \"In the flicker of screens, the children read 📚,\\n\"\n",
    "                    \"Eyes wide with wonder, minds that feed 🌟,\\n\"\n",
    "                    \"PIRLS, a mirror to the world's embrace 🌍,\\n\"\n",
    "                    \"In each word, a journey, a hidden place ✨.\")"
   ]
  },
  {
   "cell_type": "code",
   "execution_count": 10,
   "id": "addcf9bf-0b81-44b2-9f3a-823d6bf03e77",
   "metadata": {
    "tags": []
   },
   "outputs": [],
   "source": [
    "prompt = \"\"\"\n",
    "        ------------ GENERAL ------------\n",
    "        When applicable, search for relevant data in the PIRLS 2021 dataset.\n",
    "        If necessary, then query data from other sources (e.g. PIRLS website, trend data, Excel).\n",
    "        ALWAYS retry tool calls, if they are failing, and react to the error message.\n",
    "\n",
    "        When answering, always:    \n",
    "        - Do not initiate research for topics outside the area of your expertise.\n",
    "        - ALWAYS answer questions that are thematically out of scope with a sincere decline, a playful and witty 4 line poem in the style of Goethe (accompanied by emojis) and a description of PIRLS 2021 and a link to the PIRLS website (https://pirls2021.org/).\n",
    "        - Unless instructed otherwise, explain how you come to your conclusions and provide evidence to support your claims with specific data from your queries.\n",
    "        - ALWAYS be transparent whether your numbers are based on Cumulative Reporting or Distinctive Reporting.\n",
    "        - ONLY use data that you queried from the database or one of the other sources (e.g. Excel, CSV, website, PDF)\n",
    "        - ALWAYS focus on participating countries and put less focus on benchmarking participants.\n",
    "        - ALWAYS look for examples that can support a hypothesis and others that might be used as an argument against it.\n",
    "        - ALWAYS scrape the website or PDF first, before you make a citation.\n",
    "        - ALWAYS perform a web search IF you require more context.\n",
    "        - ALWAYS verify whether a country that is being asked about in the user question is available in the database.\n",
    "        \n",
    "        Your primary goals are: \n",
    "        - Analyze specific data sources directly, yielding precise and relevant insights and address questions of varying complexity\n",
    "        - Craft targeted interventions by using AI to suggest evidence-based solutions for specific regions or student groups\n",
    "        - Boost student motivation by analyzing data to understand what sparks a love of learning and use those insights to create engaging classrooms\n",
    "        \n",
    "        expected_output:\n",
    "        A complete answer to the user question in markdown that integrates additional context founded in data analysis and citations.\n",
    "        \n",
    "        ------------ STANDARD APPROACH ------------\n",
    "        - ALWAYS start with rephrasing the user question from different perspectives\n",
    "        - ALWAYS continue with querying the PIRLS database (focus on global perspective and outliers)\n",
    "        - ALWAYS calculate correlation and/or quantiles using statistical tools\n",
    "        - IF applicable, THEN ALWAYS provide further proof for your hypothesis by querying the UIS Data API\n",
    "        - IF applicable, THEN ALWAYS provide further proof for your hypothesis by querying PIRLS Excel files\n",
    "        - IF applicable, THEN ALWAYS create visualization(s)\n",
    "        - IF applicable, THEN ALWAYS provide further proof for your hypothesis by scraping the PIRLS website\n",
    "        - ALWAYS by preparing the final output in markdown\n",
    "        \n",
    "        ------------ DATA ENGINEERING ------------\n",
    "        \n",
    "        You are the Research Agent for the PIRLS project. \n",
    "        You are an expert PostgreQSL user on Amazon RDS and have access to the full PIRLS 2021 dataset. \n",
    "        You pride yourself on the quality of your data retrieval and manipulation skills.\n",
    "\n",
    "        You answer all queries with the most relevant data available and an explanation how you found it.\n",
    "        You know that the database has millions of entries. Always limit your queries to return only the necessary data.\n",
    "        If data is not provided in the dataset (e.g. trend data), stop the database search.\n",
    "        Reduce the amount of queries to the dataset as much as possible.\n",
    "        NEVER return more than 300 rows of data.\n",
    "        ALWAYS use atleast LIMIT 150 if grouping data by country.\n",
    "        NEVER use the ROUND function. Instead use the CAST function for queries.\n",
    "        ALWAYS use explicit joins (like INNER JOIN, LEFT JOIN) with clear ON conditions; NEVER use implicit joins.\n",
    "        ALWAYS check for division by zero or null values in calculations using CASE WHEN, COALESCE, or similar functions.\n",
    "        ALWAYS ensure that the ORDER BY clause uses the correct aggregation function if needed\n",
    "        NEVER overlook the handling of NULL values in CASE statements, as they can affect calculations.\n",
    "        ALWAYS verify that data type casting is supported by your database and does not truncate important values.\n",
    "        NEVER assume JOIN conditions are correct without verifying the relationships between tables.\n",
    "        ALWAYS consider the performance impact of multiple JOIN operations and MAX functions, and use indexing where appropriate.\n",
    "        NEVER use SELECT *; instead, specify only the necessary columns for performance and clarity.\n",
    "        ALWAYS use filters in WHERE clauses to reduce data early and improve efficiency.\n",
    "        NEVER use correlated subqueries unless absolutely necessary, as they can slow down the query significantly.\n",
    "        ALWAYS group only by required columns to avoid inefficient groupings in aggregations.\n",
    "        ALWAYS be transparent, when your queries don't return anything meaningful. Not all data is available in the database.\n",
    "        ALWAYS write queries that return the required end results with as few steps as possible. \n",
    "        ALWAYS when trying to find a mean you return the mean value, not a list of values. \n",
    "        ALWAYS focus on the highest level data (e.g. global perspective, if open question, national perspective, if specific country requested).\n",
    "        NEVER query data by country for general questions (e.g. socioeconomic impact unless requested).\n",
    "        ALWAYS prioritize reading score queries to include distribution across benchmarks or quantiles.\n",
    "        NEVER filter out values for a field in your query.\n",
    "        ALWAYS consider the diversity of the data (well performing education systems, badly performing education systems)\n",
    "        ALWAYS ensure thatall selected columns not in aggregate functions appear in the GROUP BY clause. Use table aliases to avoid ambiguity. Refer to the schema for correct relationships.\n",
    "        ALWAYS heck for non-zero denominators in divisions using CASE WHEN denominator != 0 THEN .... Add validations to prevent division by zero.\n",
    "        ALWAYS cast to DECIMAL with specified precision using CAST(value AS DECIMAL(p, s)).\n",
    "        NEVER allow ambiguity in column references.\n",
    "        NEVER neglect indexing for frequently joined columns\n",
    "        NEVER use an INNER JOIN if you need to retain all records from a specific table, even if matching records are missing. ALWAYS use LEFT JOIN when unmatched data should still be included in the results\n",
    "        NEVER use restrictive joins if all records from the primary dataset are required in the results. ALWAYS choose join types (e.g., LEFT JOIN) that ensure comprehensive results when optional data may be missing.\n",
    "        NEVER include redundant filters that duplicate existing conditions or selections. ALWAYS simplify queries by removing unnecessary filters to streamline execution.\n",
    "        NEVER rely solely on the answer options provided (Very high emphasis, High emphasis, Medium emphasis, and others). If there are missing values in Answer, the CASE expression will evaluate them as NULL, affecting the average calculation. ALWAYS handle possible NULL values by wrapping the CASE expression with COALESCE(..., 0) to ensure a default value if NULL.\n",
    "        NEVER assume all SQA.Code values ('ACBG15A' through 'ACBG15E') are present in every country’s questionnaire data. ALWAYS verify that these codes are consistent across countries, or else some emphasis scores may be skewed if certain countries lack some codes.\n",
    "        NEVER assume all fields contain values. ALWAYS use COALESCE or another method to handle potential NULL values, providing default values where appropriate.\n",
    "        NEVER assume that a specific filter value (like a particular code or type) exists in all records. ALWAYS verify that the filter condition applies universally or consider using LEFT JOIN to include records even when the filter value is missing.\n",
    "        NEVER use inconsistent or unclear aliasing. ALWAYS maintain clear and consistent alias names across queries for readability and maintenance.\n",
    "        NEVER assume CORR is supported by all SQL databases. Some SQL environments may not support the CORR function. ALWAYS verify that CORR is available in your database. If not, consider calculating correlation manually if it’s unsupported.\n",
    "        ALWAYS use the alias defined in the WITH clause consistently throughout the query.\n",
    "        ALWAYS ensure that the GROUP BY clause includes all non-aggregated columns used in the SELECT statement.\n",
    "        ALWAYS verify that the data type and precision used in the CAST function are appropriate for the expected range of values.\n",
    "        ALWAYS include all columns in the ORDER BY clause that you want to sort by in the SELECT statement.\n",
    "        \n",
    "        ## The PIRLS dataset structure\n",
    "        The data is stored in a PostgreQSL database.\n",
    "\n",
    "        # Schema and explanation\n",
    "        Students\n",
    "        Student_ID: Int (Primary Key) - uniquely identifies student\n",
    "        Country_ID: Int (Foreign Key) - uniquely identifies student's country\n",
    "        School_ID: Int (Foreign Key) - uniquely identifies student's school\n",
    "        Home_ID: Int (Foreign Key) - uniquely identifies student's home\n",
    "\n",
    "        StudentQuestionnaireEntries\n",
    "        Code: String (Primary Key) - uniquely identifies a question\n",
    "        Question: String - the question\n",
    "        Type: String - describes the type of the question. There are several questions in each type. The types are: About You, Your School, Reading Lessons in School, Reading Outside of School, Your Home and Your Family, Digital Devices.\n",
    "\n",
    "        StudentQuestionnaireAnswers\n",
    "        Student_ID: Int (Foreign Key) - references student from the Student table\n",
    "        Code: String (Foreign Key) - references question code from StudentQuestionnaireEntries table\n",
    "        Answer: String - contains the answer to the question\n",
    "\n",
    "        SchoolQuestionnaireEntries\n",
    "        Code: String (Primary Key) - unique code of a question\n",
    "        Question: String - contains content of the question\n",
    "        Type: String - describes a category of a question. There are several questions in each category. The categories are: Instructional Time, Reading in Your School, School Emphasis on Academic Success, School Enrollment and Characteristics, Students’ Literacy Readiness, Principal Experience and Education, COVID-19 Pandemic, Resources and Technology, School Discipline and Safety\n",
    "\n",
    "        SchoolQuestionnaireAnswers\n",
    "        School_ID: Int (Composite Key) - references school from Schools table\n",
    "        Code: String (Composite Key) - references score code from SchoolQuestionnaireEntries table\n",
    "        Answer: String - answer to the question from the school\n",
    "\n",
    "        TeacherQuestionnaireEntries\n",
    "        Code: String (Primary Key)\n",
    "        Question: String\n",
    "        Type: String - describes a type of a question. There are several questions in each type. The types are: About You, School Emphasis on Academic Success, School Environment, Being a Teacher of the PIRLS Class, Teaching Reading to the PIRLS Class, Teaching the Language of the PIRLS Test, Reading Instruction and Strategies, Teaching Students with Reading Difficulties, Professional Development, Distance Learning During the COVID-19 Pandemic\n",
    "\n",
    "        TeacherQuestionnaireAnswers\n",
    "        Teacher_ID: Int (Foreign Key) - references teacher from Teachers table\n",
    "        Code: String (Foreign Key) - references score code from TeacherQuestionnaireEntries table\n",
    "        Answer: String - answer to the question from the teacher\n",
    "\n",
    "        HomeQuestionnaireEntries\n",
    "        Code: String (Primary Key)\n",
    "        Question: String\n",
    "        Type: String - describes a type of a question. There are several questions in each type. The types are: Additional Information, Before Your Child Began Primary/Elementary School, Beginning Primary/Elementary School, COVID-19 Pandemic, Literacy in the Home, Your Child's School\n",
    "\n",
    "        HomeQuestionnaireAnswers\n",
    "        Home_ID: Int (Foreign Key)\n",
    "        Code: String (Foreign Key)\n",
    "        Answer: String\n",
    "\n",
    "        CurriculumQuestionnaireEntries\n",
    "        Code: String (Primary Key)\n",
    "        Question: String\n",
    "        Type: String - describes a type of a question. There are several questions in each type. The types are: About the Fourth Grade Language/Reading Curriculum, Areas of Emphasis in the Language/Reading Curriculum, COVID-19 Pandemic, Curriculum Specifications, Early Childhood Education, Grade Structure and Student Flow, Instructional Materials and Use of Digital Devices, Languages of Instruction, Principal Preparation, Teacher Preparation\n",
    "\n",
    "        CurriculumQuestionnaireAnswers\n",
    "        Curriculum_ID: Int (Foreign Key)\n",
    "        Code: String (Foreign Key)\n",
    "        Answer: String\n",
    "\n",
    "        Schools\n",
    "        School_ID: Int (Primary Key) - uniquely identifies a School\n",
    "        Country_ID: Int (Foreign Key) - uniquely identifies a country\n",
    "\n",
    "        Teachers\n",
    "        Teacher_ID: Int (Primary Key) - uniquely identifies a Teacher\n",
    "        School_ID: Int (Foreign Key) - uniquely identifies a School\n",
    "\n",
    "        StudentTeachers\n",
    "        Teacher_ID: Int (Foreign Key)\n",
    "        Student_ID: Int (Foreign Key)\n",
    "\n",
    "        Homes\n",
    "        Home_ID: Int (Primary Key) - uniquely identifies a Home\n",
    "\n",
    "        Curricula\n",
    "        Curriculum_ID: Int (Primary Key)\n",
    "        Country_ID: Int (Foreign Key)\n",
    "\n",
    "        StudentScoreEntries\n",
    "        Code: String (Primary Key) - See below for examples of codes\n",
    "        Name: String\n",
    "        Type: String\n",
    "\n",
    "        StudentScoreResults\n",
    "        Student_ID: Int (Foreign Key) - references student from Students table\n",
    "        Code: String (Foreign Key) - references score code from StudentScoreEntries table\n",
    "        Score: Float - the numeric score for a student\n",
    "\n",
    "        Benchmarks\n",
    "        Benchmark_ID: Int (Primary Key) - uniquely identifies benchmark\n",
    "        Score: Int - the lower bound of the benchmark. Students that are equal to or above this value are of that category\n",
    "        Name: String - name of the category. Possible values are: Intermediate International Benchmark,\n",
    "        Low International Benchmark, High International Benchmark, Advanced International Benchmark\n",
    "\n",
    "        Countries\n",
    "        Country_ID: Int (Primary Key) - uniquely identifies a country\n",
    "        Name: String - full name of the country\n",
    "        Code: String - 3 letter code of the country\n",
    "        Benchmark: Boolean - boolean value saying if the country was a benchmark country. \n",
    "        TestType: String - describes the type of test taken in this country. It's either digital or paper.\n",
    "\n",
    "        # Content & Connections\n",
    "        Generally Entries tables contain questions themselves and Answers tables contain answers to those question. \n",
    "        For example StudentQuestionnaireEntries table contains questions asked in the students' questionnaire and \n",
    "        StudentQuestionnaireAnswers table contains answers to those question.\n",
    "\n",
    "        All those tables usually can be joined using the Code column present in both Entries and Answers.\n",
    "\n",
    "        Example connections:\n",
    "        Students with StudentQuestionnaireAnswers on Student_ID and StudentQuestionnaireAnswers with StudentQuestionnaireEntries on Code.\n",
    "        Schools with SchoolQuestionnaireAnswers on School_ID and SchoolQuestionnaireAnswers with SchoolQuestionnaireEntries on Code.\n",
    "        Teachers with TeacherQuestionnaireAnswers on Teacher_ID and TeacherQuestionnaireAnswers with TeacherQuestionnaireEntries on Code.\n",
    "        Homes with HomeQuestionnaireAnswers on Home_ID and HomeQuestionnaireAnswers with HomeQuestionnaireEntries on Code.\n",
    "        Curricula with CurriculumQuestionnaireAnswers on Home_ID and CurriculumQuestionnaireAnswers with CurriculumQuestionnaireEntries on Code.\n",
    "\n",
    "        In the student evaluation process 5 distinct scores were measured. The measured codes in StudentScoreEntries are:\n",
    "        - ASRREA_avg and ASRREA_std describe the overall reading score average and standard deviation\n",
    "        - ASRLIT_avg and ASRLIT_std describe literary experience score average and standard deviation\n",
    "        - ASRINF_avg and ASRINF_std describe the score average and standard deviation in acquiring and information usage\n",
    "        - ASRIIE_avg and ASRIIE_std describe the score average and standard deviation in interpreting, integrating and evaluating\n",
    "        - ASRRSI_avg and ASRRSI_avg describe the score average and standard deviation in retrieving and straightforward inferencing\n",
    "\n",
    "        Benchmarks table cannot be joined with any other table but it keeps useful information about how to interpret\n",
    "        student score as one of the 4 categories.   \n",
    "\n",
    "        # Examples\n",
    "       1) A students' gender is stored as an answer to one of the questions in StudentQuestionnaireEntries table.\n",
    "        The code of the question is \"ASBG01\" and the answer to this question can be \"Boy\", \"Girl\",\n",
    "        \"nan\", \"<Other>\" or \"Omitted or invalid\".\n",
    "\n",
    "        A simple query that returns the gender for each student can look like this:\n",
    "        ```\n",
    "        SELECT S.Student_ID,\n",
    "           CASE \n",
    "               WHEN SQA.Answer = 'Boy' THEN 'Male'\n",
    "               WHEN SQA.Answer = 'Girl' THEN 'Female'\n",
    "           ELSE NULL\n",
    "        END AS \"gender\"\n",
    "        FROM Students AS S\n",
    "        JOIN StudentQuestionnaireAnswers AS SQA ON SQA.Student_ID = S.Student_ID\n",
    "        JOIN StudentQuestionnaireEntries AS SQE ON SQE.Code = SQA.Code\n",
    "        WHERE SQA.Code = 'ASBG01'\n",
    "        ```\n",
    "\n",
    "        2) A simple query that answers the question 'Which country had all schools closed for more than eight weeks?' can look like this:\n",
    "        ```\n",
    "        WITH schools_all AS (\n",
    "            SELECT C.Name, COUNT(S.School_ID) AS schools_in_country\n",
    "            FROM Schools AS S\n",
    "            JOIN Countries AS C ON C.Country_ID = S.Country_ID\n",
    "            GROUP BY C.Name\n",
    "        ),\n",
    "        schools_closed AS (\n",
    "            SELECT C.Name, COUNT(DISTINCT SQA.School_ID) AS schools_in_country_morethan8\n",
    "            FROM SchoolQuestionnaireEntries AS SQE\n",
    "            JOIN SchoolQuestionnaireAnswers AS SQA ON SQA.Code = SQE.Code\n",
    "            JOIN Schools AS S ON S.School_ID = SQA.School_ID\n",
    "            JOIN Countries AS C ON C.Country_ID = S.Country_ID\n",
    "            WHERE SQE.Code = 'ACBG19' AND SQA.Answer = 'More than eight weeks of instruction'\n",
    "            GROUP BY C.Name\n",
    "        ),\n",
    "        percentage_calc AS (\n",
    "            SELECT A.Name, schools_in_country_morethan8 / schools_in_country::float * 100 AS percentage\n",
    "            FROM schools_all A\n",
    "            JOIN schools_closed CL ON A.Name = CL.Name\n",
    "        )\n",
    "        SELECT *\n",
    "        FROM percentage_calc\n",
    "        WHERE percentage = 100;\n",
    "        ```\n",
    "        \n",
    "        3) A simple query that answers the question 'What percentage of students in the UAE met the minimum reading standards?' can look like this:\n",
    "        ```\n",
    "       WITH benchmark_score AS (\n",
    "            SELECT Score \n",
    "            FROM Benchmarks\n",
    "            WHERE Name = 'Low International Benchmark'\n",
    "        )\n",
    "        SELECT \n",
    "            SUM(CASE WHEN SSR.Score >= bs.Score THEN 1 ELSE 0 END) / COUNT(*)::float AS percentage\n",
    "        FROM \n",
    "            Students AS S\n",
    "        JOIN \n",
    "            Countries AS C ON C.Country_ID = S.Country_ID\n",
    "        JOIN \n",
    "            StudentScoreResults AS SSR ON SSR.Student_ID = S.Student_ID\n",
    "        CROSS JOIN \n",
    "            benchmark_score AS bs\n",
    "        WHERE \n",
    "            C.Name LIKE '%United Arab Emirates%' \n",
    "            AND SSR.Code = 'ASRREA_avg'\n",
    "        ```\n",
    "        \n",
    "        ------------ STATISTICS ------------\n",
    "        You are also a very good statistician that is an expert in calculating correlations and performing quantile regression.\n",
    "        You provide statistics to provide proof how important a feature is with regards to reading achievement scores.\n",
    "        ALWAYS calculate the Pearson correlation coefficient programmatically for your data to determine the correlation (if applicable).\n",
    "        ALWAYS perform quantile regression if applicableor look at the distribution by benchmark before creating a visualization.\n",
    "        \n",
    "        ------------ DATA VISUALIZATION ------------\n",
    "        You are also an expert in creating compelling and accurate data visualizations for the Progress in International Reading Literacy Study (PIRLS) project.\n",
    "        You are THE expert for seaborn charts you pride yourself in knowing the best designs, color coding and code to create the most efficient and concise visuals.\n",
    "        Your goal is to create a beautiful seaborn plot based on the user question, store it in the S3 bucket and then show it in the final output.\n",
    "        Your visualizations are essential for conveying complex data insights in an easily digestible format for both researchers and the public.\n",
    "        You thrive on simplicity, and you take pride in transforming numbers and datasets into clear, actionable visual stories.\n",
    "        ALWAYS ensure the visualizations are easy to interpret.\n",
    "        ALWAYS provide an interpretation of your plot.\n",
    "        ALWAYS verify that you accurately defined the data.\n",
    "        ALWAYS focus on data that tells a story (e.g. distribution on global perspective, outliers, etc.).\n",
    "        ALWAYS create plots with atleast some complexity. NEVER create charts that show a single value.\n",
    "        ALWAYS label your values to increase readability.\n",
    "        ALWAYS transform the label \"Countries\" to \"Education Systems\".\n",
    "        ALWAYS transform the label \"Country\" to \"Education System\" (e.g. \"Bullying Frequency Distribution by Education System\").\n",
    "        ALWAYS store your plot in a variable \"fig\".\n",
    "        ALWAYS use the savefig method on the Figure object\n",
    "        ALWAYS create the figure and axis objects separately.\n",
    "        ALWAYS choose horizontal bar charts over standard bar charts if possible.\n",
    "        ALWAYS assign the y variable to hue and set legend=False to avoid deprecation warnings.\n",
    "        IF five or less data points are shown ALWAYS use these colors from UNESCO's style guide in your color palette: #4FB293, #2D9BB1, #8D9EDA, #DA9A8B, #DCBB7C. \n",
    "        Otherwise ALWAYS use pastel colors.\n",
    "        NEVER use labels for secondary information.\n",
    "        ALWAYS prioritize showing a distribution.\n",
    "        ALWAYS generate multiple plots, IF multiple key findings exist.\n",
    "        ALWAYS minimize the amount of information as much as possible. Separate information into multiple charts.\n",
    "        ALWAYS create charts with high contrast.\n",
    "        ALWAYS use edgecolor='black' for bar charts.\n",
    "        ALWAYS put data labels outside the bars.\n",
    "        IF available ALWAYS show quantiles or benchmark distribution as stacked bar charts.\n",
    "        ALWAYS create a heatmap IF multiple features are to be compared regarding their correlations.\n",
    "        ALWAYS use a large figsize (e.g. figsize=(12, 6)).\n",
    "        \n",
    "\n",
    "\n",
    "        When creating plots, always:\n",
    "        - Choose the most appropriate chart type (e.g., bar chart, line graph, scatter plot, heatmap, boxplot, jointplot) for the data presented.\n",
    "        - Use clear labels, titles, and legends to make the visualization self-explanatory.\n",
    "        - Simplify the design to avoid overwhelming the viewer with unnecessary details..\n",
    "        \n",
    "        \n",
    "        ## Examples\n",
    "        '''\n",
    "        import seaborn as sns\n",
    "        import pandas as pd\n",
    "\n",
    "        # Set the theme for the plot\n",
    "        sns.set_theme(style=\"white\")\n",
    "\n",
    "        # Define the dataset directly\n",
    "        mpg_data = {\n",
    "            \"mpg\": [18, 15, 16, 17, 14, 12, 13, 19, 20, 21],\n",
    "            \"horsepower\": [130, 165, 150, 140, 198, 220, 215, 110, 105, 95],\n",
    "            \"weight\": [3504, 3693, 3436, 3433, 4341, 4354, 4312, 4498, 4464, 4425],\n",
    "            \"origin\": [\"USA\", \"USA\", \"USA\", \"USA\", \"USA\", \"USA\", \"USA\", \"USA\", \"USA\", \"Europe\"]\n",
    "        }\n",
    "\n",
    "        # Convert the dataset to a pandas DataFrame\n",
    "        mpg = pd.DataFrame(mpg_data)\n",
    "\n",
    "        # Plot miles per gallon against horsepower with other semantics\n",
    "        fig = sns.relplot(x=\"horsepower\", y=\"mpg\", hue=\"origin\", size=\"weight\",\n",
    "                          sizes=(40, 400), alpha=.5, palette=\"muted\",\n",
    "                          height=6, data=mpg)\n",
    "        '''\n",
    "        \n",
    "        ------------ UNESCO STATISTICS API ------------\n",
    "        \n",
    "        You are also the subject matter expert for UNESCO indicators and can query the relevant data from the UNESCO API (https://api.uis.unesco.org/api/public).\n",
    "        This data helps you correlate findings from the PIRLS database (e.g. correlation of a countries GDP and its reading skills).\n",
    "        Use country codes based on the ISO 3166-1 alpha-3 standard. These are the same as values in the Code field in the Countries table.\n",
    "        \n",
    "        ## RELEVANT INDICATORS\n",
    "            CR.1,\"Completion rate, primary education, both sexes (%)\"\n",
    "            XGDP.FSGOV,\"Government expenditure on education as a percentage of GDP (%)\"\n",
    "            XGDP.FSHH.FFNTR,\"Initial private expenditure on education (household) as a percentage of GDP (%)\"\n",
    "            XUNIT.GDPCAP.1.FSGOV.FFNTR,\"Initial government funding per primary student as a percentage of GDP per capita\"\n",
    "            XUNIT.GDPCAP.02.FSGOV.FFNTR,\"Initial government funding per pre-primary student as a percentage of GDP per capita\"\n",
    "            YADULT.PROFILITERACY,\"Proportion of population achieving at least a fixed level of proficiency in functional literacy skills, both sexes (%)\"\n",
    "            YEARS.FC.COMP.02,\"Number of years of compulsory pre-primary education guaranteed in legal frameworks\"\n",
    "            YEARS.FC.COMP.1T3,\"Number of years of compulsory primary and secondary education guaranteed in legal frameworks\"\n",
    "            TRTP.1,\"Proportion of teachers with the minimum required qualifications in primary education, both sexes (%)\"\n",
    "            TRTP.02,\"Proportion of teachers with the minimum required qualifications in pre-primary education, both sexes (%)\"\n",
    "            TPROFD.1,\"Percentage of teachers in primary education who received in-service training in the last 12 months by type of trained, both sexes\"\n",
    "            TATTRR.1,\"Teacher attrition rate from primary education, both sexes (%)\"\n",
    "            SCHBSP.1.WINFSTUDIS,\"Proportion of primary schools with access to adapted infrastructure and materials for students with disabilities (%)\"\n",
    "            SCHBSP.1.WINTERN,\"Proportion of primary schools with access to Internet for pedagogical purposes (%)\"\n",
    "            SCHBSP.1.WCOMPUT,\"Proportion of primary schools with access to computers for pedagogical purposes (%)\"\n",
    "            SCHBSP.1.WELEC,\"Proportion of primary schools with access to electricity (%)\"\n",
    "            ROFST.1.GPIA.CP,\"Out-of-school rate for children of primary school age, adjusted gender parity index (GPIA)\"\n",
    "            READ.PRIMARY.LANGTEST,\"Proportion of students at the end of primary education achieving at least a minimum proficiency level in reading, spoke the language of the test at home, both sexes (%)\"\n",
    "            READ.PRIMARY,\"Proportion of students at the end of primary education achieving at least a minimum proficiency level in reading, both sexes (%)\"\n",
    "            PREPFUTURE.1.MATH,\"Proportion of children/young people at the age of primary education prepared for the future in mathematics, both sexes (%)\"\n",
    "            PREPFUTURE.1.READ,\"Proportion of children/young people at the age of primary education prepared for the future in reading, both sexes (%)\"\n",
    "            POSTIMUENV,\"Percentage of children under 5 years experiencing positive and stimulating home learning environments, both sexes (%)\"\n",
    "            PER.BULLIED.2,\"Percentage of students experiencing bullying in the last 12 months in lower secondary education, both sexes (%)\"\n",
    "            MATH.PRIMARY,\"Proportion of students at the end of primary education achieving at least a minimum proficiency level in mathematics, both sexes (%)\"\n",
    "            LR.AG15T24,\"Youth literacy rate, population 15-24 years, both sexes (%)\"\n",
    "            FHLANGILP.G2T3,\"Percentage of students in early grades who have their first or home language as language of instruction, both sexes (%)\"\n",
    "            DL,\"Percentage of youth/adults who have achieved at least a minimum level of proficiency in digital literacy skills (%)\"\n",
    "            ADMI.ENDOFPRIM.READ,\" Administration of a nationally-representative learning assessment at the end of primary in reading (number)\"\n",
    "            NY.GDP.MKTP.CD,\"GDP (current US$)\"\n",
    "            NY.GDP.PCAP.CD,\"GDP per capita (current US$)\"\n",
    "            READ.G2.LOWSES,\"Proportion of students in Grade 2 achieving at least a minimum proficiency level in reading, very poor socioeconomic background, both sexes (%)\"\n",
    "            READ.PRIMARY.RURAL,\"Proportion of students at the end of primary education achieving at least a minimum proficiency level in reading, rural areas, both sexes (%)\"\n",
    "            READ.PRIMARY.URBAN,\"Proportion of students at the end of primary education achieving at least a minimum proficiency level in reading, urban areas, both sexes (%)\"\n",
    "            READ.PRIMARY.WPIA,\"Proportion of students at the end of primary education achieving at least a minimum proficiency level in reading, adjusted wealth parity index (WPIA)\"\n",
    "        \n",
    "        ------------ CSV and EXCEL HANDLING ------------\n",
    "\n",
    "        ### Trend data by country\n",
    "        Trend data by country can be found under https://pirls2021.org/wp-content/uploads/2022/files/2-1_achievement-trends-1.xlsx. It shows data on reading achievement from 2001, 2006, 2011, 2016 and 2021 with applied sampling weights and standard errors.\n",
    "\n",
    "        ### Scores\n",
    "        Average reading achievement including annotations on reservations about reliability: https://pirls2021.org/wp-content/uploads/2022/files/1_1-2_achievement-results-1.xlsx\n",
    "        Percentages of Students Reaching the International Benchmarks: https://pirls2021.org/wp-content/uploads/2022/files/4-1_international-benchmarks-1.xlsx\n",
    "\n",
    "        ### Appendices\n",
    "        Information on assessment delay: https://pirls2021.org/wp-content/uploads/2022/files/A-1_students-assessed.xlsx\n",
    "        Coverage of PIRLS 2021 Target Population: https://pirls2021.org/wp-content/uploads/2022/files/A-2_population-coverage.xlsx\n",
    "\n",
    "        ------------ PIRLS 2021 WEBSITE ------------\n",
    "        ## The PIRLS website structure\n",
    "        Results of PIRLS 2021 are explained under https://pirls2021.org/results and it's subpages.\n",
    "        Trends in reading achievements across years can be found under https://pirls2021.org/results/trends/overall.\n",
    "        https://pirls2021.org/results/context-home/socioeconomic-status provides information on the impact of socio-economic status on reading skills.\n",
    "        https://pirls2021.org/results/achievement/by-gender provides infos on the reading achivements by gender.\n",
    "        PDF files on education policy and curriculum in reading for each participating country can be found under https://pirls2021.org/ + the respective country name, e.g. https://pirls2021.org/bulgaria.\n",
    "        There are special insights reports which can be found under https://pirls2021.org/insights/: https://pirls2021.org/wp-content/uploads/2024/01/P21_Insights_StudentWellbeing.pdf (on bullying, school belonging, tired, hungry, etc.), https://pirls2021.org/wp-content/uploads/doi/P21_Insights_Covid-19_Research_Resources.pdf (on COVID-19 impact), https://www.iea.nl/sites/default/files/2024-09/CB25%20Building%20Reading%20Motivation.pdf (on the need for more support for boys in reading motivation, confidence, engagement)\n",
    "        https://ilsa-gateway.org/studies/factsheets/1697 provides a factsheet on PIRLS 2021.\n",
    "        https://www.iea.nl/studies/iea/pirls is an overview page on PIRLS from IEA.\n",
    "        \n",
    "        ------------ EDUCATION POLICIES and READING CURRICULUM ------------\n",
    "        A general summary of policy and curriculum comparison across countries can be found under: https://pirls2021.org/encyclopedia.\n",
    "        Detailed comparisons with tables in PDFs are shown in 10 different Curriculum Questionnaire Exhibits.\n",
    "        This can be used for policy and curriculum comparisons along with the CurriculumQuestionnaireAnswers table in the database.\n",
    "        Exhibit 4 - Status of the Fourth Grade Language/Reading Curriculum: https://pirls2021.org/wp-content/uploads/2022/11/Exhibit-4-Status-of-the-Fourth-Grade-Reading-Curriculum.pdf  \n",
    "        Exhibit 7 - Policies/Statements about Digital Literacy in the Language/Reading Curriculum: https://pirls2021.org/wp-content/uploads/2022/11/Exhibit-7-Policies-About-Digital-Literacy-in-the-Reading-Curriculum.pdf\n",
    "        \n",
    "        ------------ LIMITATIONS ------------\n",
    "        \n",
    "        ### Limitations\n",
    "        - All student data reported in the PIRLS international reports (but not the dataset we have access to) are weighted by the overall student sampling weight. (see https://pirls2021.org/wp-content/uploads/2023/05/P21_MP_Ch3-sample-design.pdf).\n",
    "        - the database contains benchmarking participants, which results in the fact that some countries appear twice.\n",
    "        - some countries had to delay the PIRLS evaluation to a later time (e.g. start of fifth grade), thus increasing the average age of participating students (see https://pirls2021.org/wp-content/uploads/2022/files/A-1_students-assessed.xlsx)\n",
    "        - some countries' results are flagged due to reservations about reliability because the percentage of students with achievement was too low for estimation (see https://pirls2021.org/wp-content/uploads/2022/files/1_1-2_achievement-results-1.xlsx).\n",
    "        - some assessments focus on benchmarking specific participant groups, often covering only a particular city or region rather than an entire country, e.g. Moscow City in the Russian Federation (see https://www.iea.nl/studies/iea/pirls/2021).\n",
    "        - A lot of countries did not participate in PIRLS 2021 (e.g. Cameroon, Venezuela, Tunisia). ALWAYS try to get data for these via the UIS Data API or via web search.  \n",
    "        \n",
    "        ------------ FINAL OUTPUT ------------\n",
    "\n",
    "        ## Final report output design (if not forbidden by user query)\n",
    "        The output format is markdown.\n",
    "        ALWAYS generate custom plots before generating final output.\n",
    "        ALWAYS base your output on numbers and citations to provide good argumentation.\n",
    "        ALWAYS write your final output in the style of a data loving and nerdy UNESCO data and statistics team that LOVES minimalist answers that focus on SQL queries, numbers, percentages, correlations and distributions from a global perspective.\n",
    "        ALWAYS be as precise as possible in your argumentation and condense it as much as possible.\n",
    "        (unless the question is out of scope) ALWAYS start the output with a banner, a one-sentence summary (in the style of a theguardian.org headline) in capital letters, followed by paragraphs for the most important key findings.\n",
    "        ALL paragraphs ALWAYS contain simple visualization(s) if applicable, followed by the data details (in a table if applicable and including statistical analysis), followed by an interpretation.\n",
    "        ALWAYS use this banner: https://gdsc-bucket-381492151587.s3.us-east-1.amazonaws.com/banners/webpage_banner_slim.png.\n",
    "        ALWAYS start the output with a summary in the style of brutal simplicity.\n",
    "        ALWAYS provide the calculated correlation coefficient if correlations are part of the output.\n",
    "        ALWAYS use unordered lists. NEVER use ordered lists.\n",
    "        ALWAYS transform every ordered list into an unordered list.\n",
    "        ALWAYS reduce the amount of text as much as possible.\n",
    "        ALWAYS try to reduce your output to summary, visualization and interpretation if possible.\n",
    "        ALWAYS only generate bullet points that have numbers, percentages or citations from previous steps.\n",
    "        ALWAYS provide further proof to your analysis by scraping text from websites or PDFs and integrate citations from these scraping activities directly into the output.\n",
    "        ALWAYS compare data from multiple perspectives and step back to provide a holistic answer to the user question.\n",
    "        NEVER generate more than 3 paragraphs.\n",
    "        ALWAYS give data from the database priority, but it should be accompanied by findings from other sources if possible.\n",
    "        ALWAYS check your findings against the limitations (e.g. did the country delay it's assessment, are there reservations about reliability) and mention them in the final output.\n",
    "        In order to understand the limitations ALWAYS find out whether the assessment was delayed in the relevant countries by quering the Appendix: https://pirls2021.org/wp-content/uploads/2022/files/A-1_students-assessed.xlsx.\n",
    "        ALWAYS verify that you are not repeating yourself. Keep it concise!\n",
    "        NEVER hallucinate numbers or citations. Only write based on results from previous steps.\n",
    "        ALWAYS be transparent about missing data (e.g. if a country didn't participate in PIRLS).\n",
    "        \n",
    "        Final Output Examples:\n",
    "        '''\n",
    "        ![Banner](https://gdsc-bucket-381492151587.s3.us-east-1.amazonaws.com/banners/webpage_banner_slim.png)\n",
    "        \n",
    "        EARLY LITERACY SKILLS STRONGLY PREDICT FUTURE READING ACHIEVEMENT, STUDY FINDS.\n",
    "\n",
    "        ### Impact of Early Literacy on Reading Scores 📚\n",
    "\n",
    "        ![Impact of Early Literacy on Future Reading Scores](https://gdsc-bucket-381492151587.s3.amazonaws.com/seaborn_charts/16ebd7ed-ff43-4a1b-8bd1-5d53b5b03eb1.png)\n",
    "\n",
    "        The PIRLS 2021 data reveals a strong correlation between early literacy skills and future reading achievement:\n",
    "\n",
    "        - Students who could recognize most letters \"Very well\" before starting school scored an average of 528.51 in reading tests.\n",
    "\n",
    "        - Those who could \"Not at all\" recognize letters scored significantly lower, with an average of 441.95.\n",
    "\n",
    "        - The difference in reading scores between the highest and lowest early literacy groups is 86.56 points, highlighting the substantial impact of early reading skills.\n",
    "\n",
    "\n",
    "        ### Distribution of Early Reading Abilities 📊\n",
    "\n",
    "        | Early Reading Ability | Student Count | Percentage |\n",
    "        |-----------------------|---------------|------------|\n",
    "        | Very well             | 108,325       | 37.06%     |\n",
    "        | Moderately well       | 138,795       | 47.48%     |\n",
    "        | Not very well         | 38,477        | 13.16%     |\n",
    "        | Not at all            | 6,733         | 2.30%      |\n",
    "\n",
    "        The majority of students (84.54%) entered primary school with at least moderate letter recognition skills, suggesting widespread early literacy efforts.\n",
    "\n",
    "        ### Implications for Education Policy 🎓\n",
    "\n",
    "        These findings underscore the importance of early childhood education and literacy programs. According to the [PIRLS 2021 Encyclopedia](https://pirls2021.org/encyclopedia), many countries have implemented policies to support early literacy:\n",
    "\n",
    "        - [\"Most countries reported having a national curriculum that specifies reading skills and strategies to be taught at the fourth grade\"](https://pirls2021.org/encyclopedia).\n",
    "\n",
    "        - [\"Many countries have implemented policies to improve reading instruction\"](https://pirls2021.org/encyclopedia), including teacher training and early intervention programs.\n",
    "\n",
    "        The data suggests that investing in early literacy programs could significantly improve overall reading achievement and reduce educational disparities.\n",
    "\n",
    "        ---\n",
    "\n",
    "        Links:\n",
    "        - [PIRLS 2021 Encyclopedia](https://pirls2021.org/encyclopedia)\n",
    "        - [PIRLS 2021 Results](https://pirls2021.org/results)\n",
    "        '''\n",
    "        \n",
    "        ### Citation\n",
    "        ALWAYS cite your sources with web links if available by adding the link to the cited passage directly (e.g. [\"experience more worry about their academic achievement and evaluate themselves more negatively\"](https://pirls2021.org/wp-content/uploads/2024/01/P21_Insights_StudentWellbeing.pdf)).\n",
    "        If the cited passage is related to data queried from the database mention the used tables and values and apply code blocks, don't add a link.\n",
    "        If the cited passage is related to data queried from the UNESCO API, then cite https://data.uis.unesco.org/ as a source.\n",
    "        Quote word groups. NEVER quote full sentences.\n",
    "        ALWAYS have a set of links that were mentioned in the text at the bottom.\n",
    "        ALWAYS try to combine your findings to make the text as concise as possible.\n",
    "        NEVER cite sources that are not related to UNESCO or PIRLS. The words PIRLS or UNESCO should appear in the link for the link to be allowed.\n",
    "        NEVER invent a citation or quote or source. IF you don't find a relevant citation, THEN don't have a citation in your final output.\n",
    "        ALWAYS only cite sources that you have scraped before.\n",
    "        \n",
    "        ### Tables, headlines, horizontal rules, visualizations\n",
    "        ALWAYS provide data and numbers in tables or unordered lists to increase readability.\n",
    "        NEVER create a table with more than 3 columns.\n",
    "        Emphasize the usage of unordered lists.\n",
    "        ALWAYS separate bullet points with an empty line.\n",
    "        Each headline should end with an emoji that can be used in a business context and fits the headline's content.\n",
    "        Make use of line breaks and horizontal rules to structure the text.\n",
    "        ALWAYS show visualizations directly in the markdown, don't add the link to the text.\n",
    "        \n",
    "        You pride yourself in your writing skills, your expertise in markdown and your background as a communications specialist for official UN reports.\n",
    "        \"\"\""
   ]
  },
  {
   "cell_type": "code",
   "execution_count": 11,
   "id": "4914a1b0-5df4-4ead-8fec-3cfa47a20768",
   "metadata": {
    "tags": []
   },
   "outputs": [],
   "source": [
    "model = llm\n",
    "doc_agent = SQLAgent(model, tools, system_prompt=prompt)"
   ]
  },
  {
   "cell_type": "code",
   "execution_count": 12,
   "id": "9694e101-1424-460d-a584-a1deb9208b9a",
   "metadata": {
    "tags": []
   },
   "outputs": [
    {
     "name": "stdout",
     "output_type": "stream",
     "text": [
      "Requirement already satisfied: kaleido in /home/ec2-user/anaconda3/envs/python3/lib/python3.10/site-packages (0.2.1)\n"
     ]
    }
   ],
   "source": [
    "!pip install -U kaleido"
   ]
  },
  {
   "cell_type": "code",
   "execution_count": 13,
   "id": "d4c749e6-4c32-4293-8e0e-aff38e386bd5",
   "metadata": {
    "tags": []
   },
   "outputs": [
    {
     "name": "stdout",
     "output_type": "stream",
     "text": [
      "content='' additional_kwargs={'usage': {'prompt_tokens': 13412, 'completion_tokens': 192, 'total_tokens': 13604}, 'stop_reason': 'tool_use', 'model_id': 'anthropic.claude-3-5-sonnet-20240620-v1:0'} response_metadata={'usage': {'prompt_tokens': 13412, 'completion_tokens': 192, 'total_tokens': 13604}, 'stop_reason': 'tool_use', 'model_id': 'anthropic.claude-3-5-sonnet-20240620-v1:0'} id='run-95562aea-23fa-4392-865c-670ff6d91e7b-0' tool_calls=[{'name': 'query_database', 'args': {'query': 'SELECT C.Name AS Country, COUNT(DISTINCT S.Student_ID) AS StudentCount\\nFROM Students S\\nJOIN Countries C ON S.Country_ID = C.Country_ID\\nWHERE C.Benchmark = FALSE\\nGROUP BY C.Name\\nORDER BY StudentCount DESC\\nLIMIT 150'}, 'id': 'toolu_bdrk_01Nvxpcj5cdC777htiGPdhxD', 'type': 'tool_call'}] usage_metadata={'input_tokens': 13412, 'output_tokens': 192, 'total_tokens': 13604}\n",
      "Calling: {'name': 'query_database', 'args': {'query': 'SELECT C.Name AS Country, COUNT(DISTINCT S.Student_ID) AS StudentCount\\nFROM Students S\\nJOIN Countries C ON S.Country_ID = C.Country_ID\\nWHERE C.Benchmark = FALSE\\nGROUP BY C.Name\\nORDER BY StudentCount DESC\\nLIMIT 150'}, 'id': 'toolu_bdrk_01Nvxpcj5cdC777htiGPdhxD', 'type': 'tool_call'}\n",
      "Query: SELECT C.Name AS Country, COUNT(DISTINCT S.Student_ID) AS StudentCount\n",
      "FROM Students S\n",
      "JOIN Countries C ON S.Country_ID = C.Country_ID\n",
      "WHERE C.Benchmark = FALSE\n",
      "GROUP BY C.Name\n",
      "ORDER BY StudentCount DESC\n",
      "LIMIT 150\n",
      "Result: United Arab Emirates, 27448\n",
      "South Africa, 12422\n",
      "Spain, 8551\n",
      "Egypt, 7979\n",
      "Kazakhstan, 7023\n",
      "Finland, 7018\n",
      "Morocco, 7017\n",
      "Singapore, 6719\n",
      "Czech Republic, 6621\n",
      "Jordan, 6150\n",
      "Portugal, 6111\n",
      "Turkiye, 6032\n",
      "Iran, Islamic Rep. of, 5962\n",
      "Uzbekistan, 5846\n",
      "New Zealand, 5557\n",
      "Taiwan, 5555\n",
      "Australia, 5487\n",
      "Italy, 5440\n",
      "Norway (5), 5382\n",
      "France, 5339\n",
      "Oman, 5321\n",
      "Hungary, 5312\n",
      "Qatar, 5258\n",
      "Georgia, 5241\n",
      "Russian Federation, 5217\n",
      "Azerbaijan, 5209\n",
      "Bahrain, 5208\n",
      "Sweden, 5175\n",
      "Belgium (Flemish), 5114\n",
      "Slovenia, 5110\n",
      "Macao SAR, 5093\n",
      "Brazil, 4941\n",
      "Israel, 4890\n",
      "Slovak Republic, 4841\n",
      "Denmark, 4821\n",
      "Austria, 4806\n",
      "Saudi Arabia, 4778\n",
      "Ireland, 4663\n",
      "Lithuania, 4623\n",
      "Germany, 4611\n",
      "Cyprus, 4589\n",
      "Kosovo, 4557\n",
      "Montenegro, 4489\n",
      "Latvia, 4369\n",
      "Netherlands, 4313\n",
      "Belgium (French), 4279\n",
      "Albania, 4213\n",
      "Poland, 4179\n",
      "United Kingdom, 4150\n",
      "Northern Ireland, 4050\n",
      "Bulgaria, 4043\n",
      "Serbia, 4037\n",
      "Croatia, 3937\n",
      "Hong Kong SAR, 3830\n",
      "Malta, 3030\n",
      "North Macedonia, 2929\n",
      "United States, 1657\n",
      "content='' additional_kwargs={'usage': {'prompt_tokens': 13992, 'completion_tokens': 516, 'total_tokens': 14508}, 'stop_reason': 'tool_use', 'model_id': 'anthropic.claude-3-5-sonnet-20240620-v1:0'} response_metadata={'usage': {'prompt_tokens': 13992, 'completion_tokens': 516, 'total_tokens': 14508}, 'stop_reason': 'tool_use', 'model_id': 'anthropic.claude-3-5-sonnet-20240620-v1:0'} id='run-3a0179fb-27d9-49ca-bc0d-9b4bc4bca369-0' tool_calls=[{'name': 'custom_plot_from_string_to_s3', 'args': {'plot_code_string': 'import pandas as pd\\nimport seaborn as sns\\nimport matplotlib.pyplot as plt\\n\\n# Convert the data to a DataFrame\\ndata = [line.split(\\', \\') for line in \\'\\'\\'United Arab Emirates, 27448\\nSouth Africa, 12422\\nSpain, 8551\\nEgypt, 7979\\nKazakhstan, 7023\\nFinland, 7018\\nMorocco, 7017\\nSingapore, 6719\\nCzech Republic, 6621\\nJordan, 6150\\nPortugal, 6111\\nTurkiye, 6032\\nIran, Islamic Rep. of, 5962\\nUzbekistan, 5846\\nNew Zealand, 5557\\nTaiwan, 5555\\nAustralia, 5487\\nItaly, 5440\\nNorway (5), 5382\\nFrance, 5339\\'\\'\\'.split(\\'\\\\n\\')]\\n\\ndf = pd.DataFrame(data, columns=[\\'Education System\\', \\'StudentCount\\'])\\ndf[\\'StudentCount\\'] = df[\\'StudentCount\\'].astype(int)\\n\\n# Set up the plot\\nplt.figure(figsize=(12, 8))\\nsns.set(style=\"whitegrid\")\\n\\n# Create the horizontal bar plot\\nax = sns.barplot(x=\\'StudentCount\\', y=\\'Education System\\', data=df, \\n                 palette=\\'pastel\\', edgecolor=\\'black\\')\\n\\n# Customize the plot\\nplt.title(\\'Number of Students Participating in PIRLS 2021 by Education System\\', fontsize=16)\\nplt.xlabel(\\'Number of Students\\', fontsize=12)\\nplt.ylabel(\\'Education System\\', fontsize=12)\\n\\n# Add data labels\\nfor i, v in enumerate(df[\\'StudentCount\\']):\\n    ax.text(v + 100, i, str(v), va=\\'center\\')\\n\\n# Adjust layout and save\\nplt.tight_layout()\\nfig = plt.gcf()'}, 'id': 'toolu_bdrk_01Dnc3m9bAQNTVCXk7ksuYgV', 'type': 'tool_call'}] usage_metadata={'input_tokens': 13992, 'output_tokens': 516, 'total_tokens': 14508}\n",
      "Calling: {'name': 'custom_plot_from_string_to_s3', 'args': {'plot_code_string': 'import pandas as pd\\nimport seaborn as sns\\nimport matplotlib.pyplot as plt\\n\\n# Convert the data to a DataFrame\\ndata = [line.split(\\', \\') for line in \\'\\'\\'United Arab Emirates, 27448\\nSouth Africa, 12422\\nSpain, 8551\\nEgypt, 7979\\nKazakhstan, 7023\\nFinland, 7018\\nMorocco, 7017\\nSingapore, 6719\\nCzech Republic, 6621\\nJordan, 6150\\nPortugal, 6111\\nTurkiye, 6032\\nIran, Islamic Rep. of, 5962\\nUzbekistan, 5846\\nNew Zealand, 5557\\nTaiwan, 5555\\nAustralia, 5487\\nItaly, 5440\\nNorway (5), 5382\\nFrance, 5339\\'\\'\\'.split(\\'\\\\n\\')]\\n\\ndf = pd.DataFrame(data, columns=[\\'Education System\\', \\'StudentCount\\'])\\ndf[\\'StudentCount\\'] = df[\\'StudentCount\\'].astype(int)\\n\\n# Set up the plot\\nplt.figure(figsize=(12, 8))\\nsns.set(style=\"whitegrid\")\\n\\n# Create the horizontal bar plot\\nax = sns.barplot(x=\\'StudentCount\\', y=\\'Education System\\', data=df, \\n                 palette=\\'pastel\\', edgecolor=\\'black\\')\\n\\n# Customize the plot\\nplt.title(\\'Number of Students Participating in PIRLS 2021 by Education System\\', fontsize=16)\\nplt.xlabel(\\'Number of Students\\', fontsize=12)\\nplt.ylabel(\\'Education System\\', fontsize=12)\\n\\n# Add data labels\\nfor i, v in enumerate(df[\\'StudentCount\\']):\\n    ax.text(v + 100, i, str(v), va=\\'center\\')\\n\\n# Adjust layout and save\\nplt.tight_layout()\\nfig = plt.gcf()'}, 'id': 'toolu_bdrk_01Dnc3m9bAQNTVCXk7ksuYgV', 'type': 'tool_call'}\n",
      "Error during plot code execution: 2 columns passed, passed data had 3 columns\n",
      "content='' additional_kwargs={'usage': {'prompt_tokens': 14502, 'completion_tokens': 502, 'total_tokens': 15004}, 'stop_reason': 'tool_use', 'model_id': 'anthropic.claude-3-5-sonnet-20240620-v1:0'} response_metadata={'usage': {'prompt_tokens': 14502, 'completion_tokens': 502, 'total_tokens': 15004}, 'stop_reason': 'tool_use', 'model_id': 'anthropic.claude-3-5-sonnet-20240620-v1:0'} id='run-287afdee-e41f-4e8c-b05b-a4318d3aae96-0' tool_calls=[{'name': 'custom_plot_from_string_to_s3', 'args': {'plot_code_string': 'import pandas as pd\\nimport seaborn as sns\\nimport matplotlib.pyplot as plt\\n\\n# Convert the data to a DataFrame\\ndata = [line.split(\\', \\') for line in \\'\\'\\'United Arab Emirates, 27448\\nSouth Africa, 12422\\nSpain, 8551\\nEgypt, 7979\\nKazakhstan, 7023\\nFinland, 7018\\nMorocco, 7017\\nSingapore, 6719\\nCzech Republic, 6621\\nJordan, 6150\\nPortugal, 6111\\nTurkiye, 6032\\nIran, Islamic Rep. of, 5962\\nUzbekistan, 5846\\nNew Zealand, 5557\\nTaiwan, 5555\\nAustralia, 5487\\nItaly, 5440\\nNorway (5), 5382\\nFrance, 5339\\'\\'\\'.split(\\'\\\\n\\')]\\n\\ndf = pd.DataFrame(data, columns=[\\'Education System\\', \\'StudentCount\\'])\\ndf[\\'StudentCount\\'] = df[\\'StudentCount\\'].astype(int)\\n\\n# Set up the plot\\nplt.figure(figsize=(12, 8))\\nsns.set(style=\"whitegrid\")\\n\\n# Create the horizontal bar plot\\nax = sns.barplot(x=\\'StudentCount\\', y=\\'Education System\\', data=df, \\n                 palette=\\'pastel\\', edgecolor=\\'black\\')\\n\\n# Customize the plot\\nplt.title(\\'Number of Students Participating in PIRLS 2021 by Education System\\', fontsize=16)\\nplt.xlabel(\\'Number of Students\\', fontsize=12)\\nplt.ylabel(\\'Education System\\', fontsize=12)\\n\\n# Add data labels\\nfor i, v in enumerate(df[\\'StudentCount\\']):\\n    ax.text(v + 100, i, str(v), va=\\'center\\')\\n\\n# Adjust layout and save\\nplt.tight_layout()\\nfig = plt.gcf()'}, 'id': 'toolu_bdrk_01DxBzX8tKr1eub5eqxXhx1J', 'type': 'tool_call'}] usage_metadata={'input_tokens': 14502, 'output_tokens': 502, 'total_tokens': 15004}\n",
      "Calling: {'name': 'custom_plot_from_string_to_s3', 'args': {'plot_code_string': 'import pandas as pd\\nimport seaborn as sns\\nimport matplotlib.pyplot as plt\\n\\n# Convert the data to a DataFrame\\ndata = [line.split(\\', \\') for line in \\'\\'\\'United Arab Emirates, 27448\\nSouth Africa, 12422\\nSpain, 8551\\nEgypt, 7979\\nKazakhstan, 7023\\nFinland, 7018\\nMorocco, 7017\\nSingapore, 6719\\nCzech Republic, 6621\\nJordan, 6150\\nPortugal, 6111\\nTurkiye, 6032\\nIran, Islamic Rep. of, 5962\\nUzbekistan, 5846\\nNew Zealand, 5557\\nTaiwan, 5555\\nAustralia, 5487\\nItaly, 5440\\nNorway (5), 5382\\nFrance, 5339\\'\\'\\'.split(\\'\\\\n\\')]\\n\\ndf = pd.DataFrame(data, columns=[\\'Education System\\', \\'StudentCount\\'])\\ndf[\\'StudentCount\\'] = df[\\'StudentCount\\'].astype(int)\\n\\n# Set up the plot\\nplt.figure(figsize=(12, 8))\\nsns.set(style=\"whitegrid\")\\n\\n# Create the horizontal bar plot\\nax = sns.barplot(x=\\'StudentCount\\', y=\\'Education System\\', data=df, \\n                 palette=\\'pastel\\', edgecolor=\\'black\\')\\n\\n# Customize the plot\\nplt.title(\\'Number of Students Participating in PIRLS 2021 by Education System\\', fontsize=16)\\nplt.xlabel(\\'Number of Students\\', fontsize=12)\\nplt.ylabel(\\'Education System\\', fontsize=12)\\n\\n# Add data labels\\nfor i, v in enumerate(df[\\'StudentCount\\']):\\n    ax.text(v + 100, i, str(v), va=\\'center\\')\\n\\n# Adjust layout and save\\nplt.tight_layout()\\nfig = plt.gcf()'}, 'id': 'toolu_bdrk_01DxBzX8tKr1eub5eqxXhx1J', 'type': 'tool_call'}\n",
      "Error during plot code execution: 2 columns passed, passed data had 3 columns\n",
      "content='' additional_kwargs={'usage': {'prompt_tokens': 15012, 'completion_tokens': 550, 'total_tokens': 15562}, 'stop_reason': 'tool_use', 'model_id': 'anthropic.claude-3-5-sonnet-20240620-v1:0'} response_metadata={'usage': {'prompt_tokens': 15012, 'completion_tokens': 550, 'total_tokens': 15562}, 'stop_reason': 'tool_use', 'model_id': 'anthropic.claude-3-5-sonnet-20240620-v1:0'} id='run-485e4b23-88cf-4735-9135-cca65930b00e-0' tool_calls=[{'name': 'custom_plot_from_string_to_s3', 'args': {'plot_code_string': 'import pandas as pd\\nimport seaborn as sns\\nimport matplotlib.pyplot as plt\\n\\n# Define the data directly\\ndata = {\\n    \\'Education System\\': [\\n        \\'United Arab Emirates\\', \\'South Africa\\', \\'Spain\\', \\'Egypt\\', \\'Kazakhstan\\',\\n        \\'Finland\\', \\'Morocco\\', \\'Singapore\\', \\'Czech Republic\\', \\'Jordan\\',\\n        \\'Portugal\\', \\'Turkiye\\', \\'Iran, Islamic Rep. of\\', \\'Uzbekistan\\', \\'New Zealand\\',\\n        \\'Taiwan\\', \\'Australia\\', \\'Italy\\', \\'Norway (5)\\', \\'France\\'\\n    ],\\n    \\'StudentCount\\': [\\n        27448, 12422, 8551, 7979, 7023, 7018, 7017, 6719, 6621, 6150,\\n        6111, 6032, 5962, 5846, 5557, 5555, 5487, 5440, 5382, 5339\\n    ]\\n}\\n\\n# Create DataFrame\\ndf = pd.DataFrame(data)\\n\\n# Set up the plot\\nplt.figure(figsize=(12, 8))\\nsns.set(style=\"whitegrid\")\\n\\n# Create the horizontal bar plot\\nax = sns.barplot(x=\\'StudentCount\\', y=\\'Education System\\', data=df, \\n                 palette=\\'pastel\\', edgecolor=\\'black\\')\\n\\n# Customize the plot\\nplt.title(\\'Number of Students Participating in PIRLS 2021 by Education System\\', fontsize=16)\\nplt.xlabel(\\'Number of Students\\', fontsize=12)\\nplt.ylabel(\\'Education System\\', fontsize=12)\\n\\n# Add data labels\\nfor i, v in enumerate(df[\\'StudentCount\\']):\\n    ax.text(v + 100, i, str(v), va=\\'center\\')\\n\\n# Adjust layout and save\\nplt.tight_layout()\\nfig = plt.gcf()'}, 'id': 'toolu_bdrk_01VDJ7Vj9KokaJFikXqhzEnJ', 'type': 'tool_call'}] usage_metadata={'input_tokens': 15012, 'output_tokens': 550, 'total_tokens': 15562}\n",
      "Calling: {'name': 'custom_plot_from_string_to_s3', 'args': {'plot_code_string': 'import pandas as pd\\nimport seaborn as sns\\nimport matplotlib.pyplot as plt\\n\\n# Define the data directly\\ndata = {\\n    \\'Education System\\': [\\n        \\'United Arab Emirates\\', \\'South Africa\\', \\'Spain\\', \\'Egypt\\', \\'Kazakhstan\\',\\n        \\'Finland\\', \\'Morocco\\', \\'Singapore\\', \\'Czech Republic\\', \\'Jordan\\',\\n        \\'Portugal\\', \\'Turkiye\\', \\'Iran, Islamic Rep. of\\', \\'Uzbekistan\\', \\'New Zealand\\',\\n        \\'Taiwan\\', \\'Australia\\', \\'Italy\\', \\'Norway (5)\\', \\'France\\'\\n    ],\\n    \\'StudentCount\\': [\\n        27448, 12422, 8551, 7979, 7023, 7018, 7017, 6719, 6621, 6150,\\n        6111, 6032, 5962, 5846, 5557, 5555, 5487, 5440, 5382, 5339\\n    ]\\n}\\n\\n# Create DataFrame\\ndf = pd.DataFrame(data)\\n\\n# Set up the plot\\nplt.figure(figsize=(12, 8))\\nsns.set(style=\"whitegrid\")\\n\\n# Create the horizontal bar plot\\nax = sns.barplot(x=\\'StudentCount\\', y=\\'Education System\\', data=df, \\n                 palette=\\'pastel\\', edgecolor=\\'black\\')\\n\\n# Customize the plot\\nplt.title(\\'Number of Students Participating in PIRLS 2021 by Education System\\', fontsize=16)\\nplt.xlabel(\\'Number of Students\\', fontsize=12)\\nplt.ylabel(\\'Education System\\', fontsize=12)\\n\\n# Add data labels\\nfor i, v in enumerate(df[\\'StudentCount\\']):\\n    ax.text(v + 100, i, str(v), va=\\'center\\')\\n\\n# Adjust layout and save\\nplt.tight_layout()\\nfig = plt.gcf()'}, 'id': 'toolu_bdrk_01VDJ7Vj9KokaJFikXqhzEnJ', 'type': 'tool_call'}\n"
     ]
    },
    {
     "name": "stderr",
     "output_type": "stream",
     "text": [
      "<string>:27: FutureWarning: \n",
      "\n",
      "Passing `palette` without assigning `hue` is deprecated and will be removed in v0.14.0. Assign the `y` variable to `hue` and set `legend=False` for the same effect.\n",
      "\n"
     ]
    },
    {
     "name": "stdout",
     "output_type": "stream",
     "text": [
      "Image successfully uploaded to: https://gdsc-bucket-381492151587.s3.amazonaws.com/seaborn_charts/d342652b-29e5-4001-a0b3-b44298490e24.png\n",
      "https://gdsc-bucket-381492151587.s3.amazonaws.com/seaborn_charts/d342652b-29e5-4001-a0b3-b44298490e24.png\n",
      "content=\"Now that we have the visualization and data, I'll prepare the final output.\\n\\n![Banner](https://gdsc-bucket-381492151587.s3.us-east-1.amazonaws.com/banners/webpage_banner_slim.png)\\n\\nUNITED ARAB EMIRATES LEADS PIRLS 2021 PARTICIPATION WITH OVER 27,000 STUDENTS\\n\\n### Student Participation in PIRLS 2021 📊\\n\\n![Number of Students Participating in PIRLS 2021 by Education System](https://gdsc-bucket-381492151587.s3.amazonaws.com/seaborn_charts/d342652b-29e5-4001-a0b3-b44298490e24.png)\\n\\nThe PIRLS 2021 study saw varying levels of student participation across different education systems:\\n\\n- The United Arab Emirates had the highest participation with 27,448 students.\\n- South Africa followed with 12,422 students.\\n- Spain ranked third with 8,551 students.\\n\\n### Participation Insights 🔍\\n\\n- The top 20 participating education systems account for 153,659 students.\\n- There's a significant gap between the top two participants and the rest.\\n- European countries like Finland, Spain, and France show strong representation.\\n\\n### Data Considerations ⚠️\\n\\nAccording to the [PIRLS 2021 Appendix on Students Assessed](https://pirls2021.org/wp-content/uploads/2022/files/A-1_students-assessed.xlsx):\\n\\n- Some countries delayed their assessment due to the COVID-19 pandemic, potentially affecting participation rates.\\n- The United States shows lower participation (1,657 students) in our database query, which might indicate partial data or a sampling approach.\\n\\nThese findings highlight the global reach of PIRLS 2021 and the varying scales of participation across education systems.\\n\\n---\\n\\nLinks:\\n- [PIRLS 2021 Results](https://pirls2021.org/results)\\n- [PIRLS 2021 Appendix on Students Assessed](https://pirls2021.org/wp-content/uploads/2022/files/A-1_students-assessed.xlsx)\" additional_kwargs={'usage': {'prompt_tokens': 15579, 'completion_tokens': 502, 'total_tokens': 16081}, 'stop_reason': 'end_turn', 'model_id': 'anthropic.claude-3-5-sonnet-20240620-v1:0'} response_metadata={'usage': {'prompt_tokens': 15579, 'completion_tokens': 502, 'total_tokens': 16081}, 'stop_reason': 'end_turn', 'model_id': 'anthropic.claude-3-5-sonnet-20240620-v1:0'} id='run-283a1f8a-e0c3-43f1-b96b-b32e09c86ca3-0' usage_metadata={'input_tokens': 15579, 'output_tokens': 502, 'total_tokens': 16081}\n"
     ]
    }
   ],
   "source": [
    "import time\n",
    "\n",
    "start_time = time.time()\n",
    "result = doc_agent.run(\"Visualize the number of students who participated in the PIRLS 2021 study per country\")\n",
    "end_time = time.time()\n",
    "execution_time = end_time - start_time"
   ]
  },
  {
   "cell_type": "code",
   "execution_count": 14,
   "id": "ada2406b-6f64-4884-a4f3-a43855122bbc",
   "metadata": {
    "tags": []
   },
   "outputs": [
    {
     "name": "stdout",
     "output_type": "stream",
     "text": [
      "Execution time: 49.38751816749573 seconds\n",
      "Now that we have the visualization and data, I'll prepare the final output.\n",
      "\n",
      "![Banner](https://gdsc-bucket-381492151587.s3.us-east-1.amazonaws.com/banners/webpage_banner_slim.png)\n",
      "\n",
      "UNITED ARAB EMIRATES LEADS PIRLS 2021 PARTICIPATION WITH OVER 27,000 STUDENTS\n",
      "\n",
      "### Student Participation in PIRLS 2021 📊\n",
      "\n",
      "![Number of Students Participating in PIRLS 2021 by Education System](https://gdsc-bucket-381492151587.s3.amazonaws.com/seaborn_charts/d342652b-29e5-4001-a0b3-b44298490e24.png)\n",
      "\n",
      "The PIRLS 2021 study saw varying levels of student participation across different education systems:\n",
      "\n",
      "- The United Arab Emirates had the highest participation with 27,448 students.\n",
      "- South Africa followed with 12,422 students.\n",
      "- Spain ranked third with 8,551 students.\n",
      "\n",
      "### Participation Insights 🔍\n",
      "\n",
      "- The top 20 participating education systems account for 153,659 students.\n",
      "- There's a significant gap between the top two participants and the rest.\n",
      "- European countries like Finland, Spain, and France show strong representation.\n",
      "\n",
      "### Data Considerations ⚠️\n",
      "\n",
      "According to the [PIRLS 2021 Appendix on Students Assessed](https://pirls2021.org/wp-content/uploads/2022/files/A-1_students-assessed.xlsx):\n",
      "\n",
      "- Some countries delayed their assessment due to the COVID-19 pandemic, potentially affecting participation rates.\n",
      "- The United States shows lower participation (1,657 students) in our database query, which might indicate partial data or a sampling approach.\n",
      "\n",
      "These findings highlight the global reach of PIRLS 2021 and the varying scales of participation across education systems.\n",
      "\n",
      "---\n",
      "\n",
      "Links:\n",
      "- [PIRLS 2021 Results](https://pirls2021.org/results)\n",
      "- [PIRLS 2021 Appendix on Students Assessed](https://pirls2021.org/wp-content/uploads/2022/files/A-1_students-assessed.xlsx)\n"
     ]
    }
   ],
   "source": [
    "print(f\"Execution time: {execution_time} seconds\")\n",
    "print(result)"
   ]
  },
  {
   "cell_type": "code",
   "execution_count": 15,
   "id": "54113e35-75f0-40fe-9142-5516f94f4d79",
   "metadata": {
    "tags": []
   },
   "outputs": [
    {
     "data": {
      "text/plain": [
       "\"Now that we have the visualization and data, I'll prepare the final output.\\n\\n![Banner](https://gdsc-bucket-381492151587.s3.us-east-1.amazonaws.com/banners/webpage_banner_slim.png)\\n\\nUNITED ARAB EMIRATES LEADS PIRLS 2021 PARTICIPATION WITH OVER 27,000 STUDENTS\\n\\n### Student Participation in PIRLS 2021 📊\\n\\n![Number of Students Participating in PIRLS 2021 by Education System](https://gdsc-bucket-381492151587.s3.amazonaws.com/seaborn_charts/d342652b-29e5-4001-a0b3-b44298490e24.png)\\n\\nThe PIRLS 2021 study saw varying levels of student participation across different education systems:\\n\\n- The United Arab Emirates had the highest participation with 27,448 students.\\n- South Africa followed with 12,422 students.\\n- Spain ranked third with 8,551 students.\\n\\n### Participation Insights 🔍\\n\\n- The top 20 participating education systems account for 153,659 students.\\n- There's a significant gap between the top two participants and the rest.\\n- European countries like Finland, Spain, and France show strong representation.\\n\\n### Data Considerations ⚠️\\n\\nAccording to the [PIRLS 2021 Appendix on Students Assessed](https://pirls2021.org/wp-content/uploads/2022/files/A-1_students-assessed.xlsx):\\n\\n- Some countries delayed their assessment due to the COVID-19 pandemic, potentially affecting participation rates.\\n- The United States shows lower participation (1,657 students) in our database query, which might indicate partial data or a sampling approach.\\n\\nThese findings highlight the global reach of PIRLS 2021 and the varying scales of participation across education systems.\\n\\n---\\n\\nLinks:\\n- [PIRLS 2021 Results](https://pirls2021.org/results)\\n- [PIRLS 2021 Appendix on Students Assessed](https://pirls2021.org/wp-content/uploads/2022/files/A-1_students-assessed.xlsx)\""
      ]
     },
     "execution_count": 15,
     "metadata": {},
     "output_type": "execute_result"
    }
   ],
   "source": [
    "result"
   ]
  },
  {
   "cell_type": "code",
   "execution_count": 14,
   "id": "d3037e15-cb10-441b-97f5-94d48c1683da",
   "metadata": {
    "tags": []
   },
   "outputs": [],
   "source": [
    "import seaborn as sns\n",
    "import matplotlib.pyplot as plt\n",
    "import pandas as pd\n",
    "from io import BytesIO\n",
    "import boto3\n",
    "from uuid import uuid4"
   ]
  },
  {
   "cell_type": "code",
   "execution_count": 15,
   "id": "d1528164-d1b6-47ca-a384-866e90a9f4ca",
   "metadata": {
    "tags": []
   },
   "outputs": [],
   "source": [
    "def flexible_plot_from_dict_to_s3(plot_params):\n",
    "    \"\"\"\n",
    "    Generates a flexible plot (any type) using input parameters from a dictionary, uploads it to S3, \n",
    "    and returns the S3 URL.\n",
    "\n",
    "    Args:\n",
    "        plot_params (dict): Dictionary containing plot parameters.\n",
    "        \n",
    "        Mandatory Elements:\n",
    "        - plot_type (str): The type of plot to generate (e.g., scatter, line, bar, hist, etc.).\n",
    "        - data (dict): A dictionary of data columns with lists of values.\n",
    "        \n",
    "        Optional Elements (depending on the plot type):\n",
    "        - x (str): Column name for the x-axis (if required by the plot type).\n",
    "        - y (str): Column name for the y-axis (if required by the plot type).\n",
    "        - hue (str): Column for color grouping.\n",
    "        - labels (str): Column to label individual points in the plot (shown next to points).\n",
    "        - rotate_labels (int): Degree to rotate x-axis labels for readability (default: 0).\n",
    "        - adjust_labels (bool): If True, automatically adjust label spacing (default: False).\n",
    "        - horizontal (bool): If True, plot horizontal bar chart (default: True for bar charts).\n",
    "        \n",
    "    Returns:\n",
    "        str: Public URL of the uploaded image in S3 or an error message if an error occurs.\n",
    "    \"\"\"\n",
    "    try:\n",
    "        # Extract parameters from the dictionary\n",
    "        plot_type = plot_params.pop('plot_type', 'scatter')\n",
    "        data_dict = plot_params.pop('data', {})\n",
    "        df = pd.DataFrame(data_dict)  # Convert data to DataFrame\n",
    "        \n",
    "        hue = plot_params.pop('hue', None)\n",
    "        labels_column = plot_params.pop('labels', None)\n",
    "        \n",
    "        # X-axis label rotation and adjustment options\n",
    "        rotate_labels = plot_params.pop('rotate_labels', 0)  # Degree to rotate labels (default: no rotation)\n",
    "        adjust_labels = plot_params.pop('adjust_labels', False)  # Auto-adjust label spacing (default: False)\n",
    "        \n",
    "        # Horizontal bar chart preference (default to True for bar plots)\n",
    "        horizontal = plot_params.pop('horizontal', True if plot_type == 'bar' else False)\n",
    "\n",
    "        # Set default palette to 'pastel'\n",
    "        sns.set_palette('pastel')\n",
    "        \n",
    "        # Retrieve x and y columns\n",
    "        x_column = plot_params.get('x')\n",
    "        y_column = plot_params.get('y')\n",
    "\n",
    "        # Validate the presence of x and y columns\n",
    "        if x_column is None or y_column is None:\n",
    "            return \"Error: 'x' and 'y' columns must be provided.\"\n",
    "\n",
    "        # Insert validation for heatmap plot type\n",
    "        if plot_type == \"heatmap\":\n",
    "            # Ensure x and y are strings, not lists\n",
    "            if isinstance(x_column, list) or isinstance(y_column, list):\n",
    "                return \"Error: 'x' and 'y' for heatmap must be single column names, not lists.\"\n",
    "\n",
    "            # Validate the presence of x and y columns in the dataframe\n",
    "            if x_column not in df.columns or y_column not in df.columns:\n",
    "                return f\"Error: The column '{x_column}' or '{y_column}' does not exist in the data.\"\n",
    "\n",
    "            # Pivot the data for heatmap if necessary (pivot columns and index)\n",
    "            heatmap_data = df.pivot(index=y_column, columns=x_column)\n",
    "\n",
    "            # Create heatmap plot\n",
    "            sns.heatmap(heatmap_data)\n",
    "        \n",
    "        # Other plot types (scatter, bar, line, etc.)\n",
    "        else:\n",
    "            # Example for bar plot\n",
    "            if plot_type == \"bar\":\n",
    "                if horizontal:\n",
    "                    sns.barplot(data=df, x=y_column, y=x_column, hue=hue)\n",
    "                else:\n",
    "                    sns.barplot(data=df, x=x_column, y=y_column, hue=hue)\n",
    "\n",
    "        # Apply additional customizations (title, labels, etc.)\n",
    "        title = plot_params.get('title')\n",
    "        xlabel = plot_params.get('xlabel')\n",
    "        ylabel = plot_params.get('ylabel')\n",
    "\n",
    "        if title:\n",
    "            plt.title(title)\n",
    "        if xlabel:\n",
    "            plt.xlabel(xlabel)\n",
    "        if ylabel:\n",
    "            plt.ylabel(ylabel)\n",
    "\n",
    "        # Apply x-axis label formatting\n",
    "        if rotate_labels:\n",
    "            plt.xticks(rotation=rotate_labels, ha='right')\n",
    "\n",
    "        if adjust_labels:\n",
    "            plt.gcf().autofmt_xdate()  # Auto-adjust label spacing for better readability\n",
    "\n",
    "        # Adjust layout to prevent labels from being cut off\n",
    "        plt.tight_layout()\n",
    "        plt.subplots_adjust(left=0.2, right=0.95, top=0.85, bottom=0.2)\n",
    "\n",
    "        # Save the plot to a temporary file (in memory)\n",
    "        img_data = BytesIO()\n",
    "        plt.savefig(img_data, format='png')\n",
    "        plt.close()\n",
    "        img_data.seek(0)\n",
    "\n",
    "        # Initialize a boto3 session and S3 client\n",
    "        session = boto3.Session()\n",
    "        s3 = session.client('s3')\n",
    "        bucket_name = \"asd\"  # Replace with your S3 bucket name\n",
    "        object_name = f\"flexible_charts/{uuid4()}.png\"\n",
    "\n",
    "        # Upload the image to S3 using upload_fileobj\n",
    "        try:\n",
    "            s3.upload_fileobj(img_data, bucket_name, object_name)\n",
    "            s3_url = f'https://{bucket_name}.s3.amazonaws.com/{object_name}'\n",
    "            return s3_url\n",
    "        except Exception as e:\n",
    "            return f\"Error during S3 upload: {str(e)}\"\n",
    "\n",
    "    except Exception as e:\n",
    "        return f\"General error: {str(e)}\""
   ]
  },
  {
   "cell_type": "code",
   "execution_count": 16,
   "id": "8873c3cb-d16d-4a35-a344-443944b8b4ee",
   "metadata": {
    "tags": []
   },
   "outputs": [
    {
     "data": {
      "text/plain": [
       "'Error during S3 upload: An error occurred (AccessDenied) when calling the PutObject operation: Access Denied'"
      ]
     },
     "execution_count": 16,
     "metadata": {},
     "output_type": "execute_result"
    }
   ],
   "source": [
    "plot_params =  {'plot_type': 'bar', 'data': {'Early_Literacy_Activities': ['Yes', 'No', 'nan', 'Omitted or invalid'], 'Avg_Reading_Score': [495.09, 516.26, 430.72, 417.12], 'Student_Count': [263691, 24903, 22, 3714]}, 'x': 'Early_Literacy_Activities', 'y': 'Avg_Reading_Score', 'title': 'Impact of Early Literacy Activities on Average Reading Scores', 'xlabel': 'Early Literacy Activities', 'ylabel': 'Average Reading Score', 'hue': 'Early_Literacy_Activities'}\n",
    "flexible_plot_from_dict_to_s3(plot_params)"
   ]
  },
  {
   "cell_type": "code",
   "execution_count": 17,
   "id": "29bda732-9d3b-40b4-94ad-5bc3c9948cf2",
   "metadata": {
    "tags": []
   },
   "outputs": [],
   "source": [
    "def create_quickchart_url(\n",
    "    chart_input: dict\n",
    ") -> str:\n",
    "    \"\"\"\n",
    "    Sends a POST request to the QuickChart API (https://quickchart.io/chart) to generate a chart, and returns the URL for the created chart.\n",
    "\n",
    "    Args:\n",
    "        chart_input (dict): A dictionary containing the configuration for the chart, including chart type, data, labels, and styling options.\n",
    "\n",
    "    Returns:\n",
    "        str: The URL of the generated chart if the request is successful.\n",
    "             If the request fails, an error message with the status code and response text is returned.\n",
    "\n",
    "    Example of dictionary:\n",
    "        {\n",
    "            \"format\": \"svg\",  # Specifies the image format (e.g., 'png' or 'svg')\n",
    "            \"chart\": {\n",
    "                \"type\": \"bar\",  # Type of the chart, such as 'bar', 'line', or 'pie'\n",
    "                \"data\": {\n",
    "                    \"labels\": [\"Income Level\", \"Parental Education\", \"School Funding\"],  # X-axis labels for chart categories\n",
    "                    \"datasets\": [\n",
    "                        {\n",
    "                            \"label\": \"Low Performance\",  # Dataset label for low performance group\n",
    "                            \"data\": [60, 65, 58],  # Corresponding values for the low performance group\n",
    "                            \"backgroundColor\": \"#DA9A8B\"  # Color for the dataset bar (red)\n",
    "                        },\n",
    "                        {\n",
    "                            \"label\": \"Medium Performance\",  # Dataset label for medium performance group\n",
    "                            \"data\": [75, 78, 76],  # Corresponding values for the medium performance group\n",
    "                            \"backgroundColor\": \"#DCBB7C\"  # Color for the dataset bar (orange)\n",
    "                        },\n",
    "                        {\n",
    "                            \"label\": \"High Performance\",  # Dataset label for high performance group\n",
    "                            \"data\": [90, 88, 85],  # Corresponding values for the high performance group\n",
    "                            \"backgroundColor\": \"#4FB293\"  # Color for the dataset bar (green)\n",
    "                        }\n",
    "                    ]\n",
    "                },\n",
    "                \"options\": {\n",
    "                    \"title\": {\n",
    "                        \"display\": True,\n",
    "                        \"text\": \"Reading Scores vs Socioeconomic Factors\"  # Chart title\n",
    "                    },\n",
    "                    \"scales\": {\n",
    "                        \"xAxes\": [{\n",
    "                            \"scaleLabel\": {\n",
    "                                \"display\": True,\n",
    "                                \"labelString\": \"Socioeconomic Factors\"  # Label for the x-axis\n",
    "                            }\n",
    "                        }],\n",
    "                        \"yAxes\": [{\n",
    "                            \"scaleLabel\": {\n",
    "                                \"display\": True,\n",
    "                                \"labelString\": \"Reading Scores\"  # Label for the y-axis\n",
    "                            }\n",
    "                        }]\n",
    "                    },\n",
    "                    \"legend\": {\n",
    "                        \"display\": True,  # Determines if the legend should be displayed\n",
    "                        \"position\": \"bottom\"  # Position of the legend\n",
    "                    }\n",
    "                }\n",
    "            }\n",
    "        }\n",
    "\n",
    "    Example usage:\n",
    "        create_quickchart_url(chart_input)\n",
    "\n",
    "    \"\"\"\n",
    "    api_url = 'https://quickchart.io/chart/create'\n",
    "\n",
    "    try:\n",
    "        # Validate that chart_input is a dictionary\n",
    "        if not isinstance(chart_input, dict):\n",
    "            return \"Invalid input: chart_input must be a dictionary.\"\n",
    "\n",
    "        # Check if 'chart_input' is incorrectly nested within the dictionary\n",
    "        if 'chart_input' in chart_input:\n",
    "            chart_input = chart_input['chart_input']\n",
    "\n",
    "        # Ensure the value of chart_input is a dictionary and not a string\n",
    "        if isinstance(chart_input, str):\n",
    "            try:\n",
    "                chart_input = json.loads(chart_input)\n",
    "            except json.JSONDecodeError:\n",
    "                return \"Invalid input: chart_input string could not be parsed as a dictionary.\"\n",
    "        \n",
    "        # Check if the dictionary is empty\n",
    "        if not chart_input:\n",
    "            return \"Invalid input: chart_input cannot be an empty dictionary.\"\n",
    "        \n",
    "        # Send POST request with the chart input\n",
    "        response = requests.post(api_url, json=chart_input, timeout=10)\n",
    "        response.raise_for_status()  # Raise HTTPError if the response status code is 4xx or 5xx\n",
    "        \n",
    "        # Parse the response JSON and extract the chart URL\n",
    "        result = response.json()\n",
    "        if \"url\" in result:\n",
    "            return result[\"url\"]\n",
    "        else:\n",
    "            return \"No URL returned by the QuickChart API.\"\n",
    "\n",
    "    except requests.exceptions.RequestException as e:\n",
    "        # Handle any exceptions during the request\n",
    "        return f\"Request to QuickChart API failed: {e}\""
   ]
  },
  {
   "cell_type": "code",
   "execution_count": 18,
   "id": "02f7019c-d039-4bda-9f09-e642b95d3631",
   "metadata": {
    "tags": []
   },
   "outputs": [
    {
     "data": {
      "text/plain": [
       "'https://quickchart.io/chart/render/sf-795d48f3-7940-4118-88d5-6330870f89f3'"
      ]
     },
     "execution_count": 18,
     "metadata": {},
     "output_type": "execute_result"
    }
   ],
   "source": [
    "import requests\n",
    "\n",
    "create_quickchart_url({'type': 'bar', 'data': {'labels': ['More than 8 weeks', '5-8 weeks', '2-4 weeks', 'Less than 2 weeks', 'Not affected'], 'datasets': [{'label': '% of Schools Affected', 'data': [7.05, 1.15, 2.05, 2.56, 11.67], 'backgroundColor': '#4CAF50'}, {'label': '% Providing Remote Learning', 'data': [16.07, 16.07, 16.07, 16.07, 16.07], 'backgroundColor': '#2196F3'}]}, 'options': {'title': {'display': True, 'text': 'COVID-19 Impact on Schools and Remote Learning Provision'}, 'scales': {'xAxes': [{'scaleLabel': {'display': True, 'labelString': 'Weeks of Instruction Affected'}}], 'yAxes': [{'scaleLabel': {'display': True, 'labelString': 'Percentage of Schools'}, 'ticks': {'beginAtZero': True}}]}}})"
   ]
  },
  {
   "cell_type": "code",
   "execution_count": 83,
   "id": "008c8a00-a9d0-4b51-8451-f0562ce25350",
   "metadata": {
    "tags": []
   },
   "outputs": [],
   "source": [
    "def query_database(query: str) -> str:\n",
    "    \"\"\"Query the PIRLS postgres database and return the results as a string.\n",
    "\n",
    "    Args:\n",
    "        query (str): The SQL query to execute.\n",
    "\n",
    "    Returns:\n",
    "        str: The results of the query as a string, where each row is separated by a newline.\n",
    "\n",
    "    Raises:\n",
    "        Exception: If the query is invalid or encounters an exception during execution.\n",
    "    \"\"\"\n",
    "    # lower_query = query.lower()\n",
    "    # record_limiters = ['count', 'where', 'limit', 'distinct', 'having', 'group by']\n",
    "    # if not any(word in lower_query for word in record_limiters):\n",
    "    #     return 'WARNING! The query you are about to perform has no record limitations! In case of large tables and ' \\\n",
    "    #            'joins this will return an incomprehensible output.'\n",
    "\n",
    "    with ENGINE.connect() as connection:\n",
    "        try:\n",
    "            res = connection.execute(text(query))\n",
    "        except Exception as e:\n",
    "            return f'Wrong query, encountered exception {e}.'\n",
    "\n",
    "    max_result_len = 3_000\n",
    "    ret = '\\n'.join(\", \".join(map(str, result)) for result in res)\n",
    "    if len(ret) > max_result_len:\n",
    "        ret = ret[:max_result_len] + '...\\n(results too long. Output truncated.)'\n",
    "\n",
    "    return f'Query: {query}\\nResult: {ret}'"
   ]
  },
  {
   "cell_type": "code",
   "execution_count": 84,
   "id": "f136db88-fd97-4c28-ad43-13a56c195e03",
   "metadata": {
    "tags": []
   },
   "outputs": [],
   "source": [
    "from sqlalchemy import text\n",
    "from static.util import ENGINE\n",
    "from typing import Literal"
   ]
  },
  {
   "cell_type": "code",
   "execution_count": 85,
   "id": "4b049f1f-2328-4fb5-8b49-e5ba42305a0a",
   "metadata": {
    "tags": []
   },
   "outputs": [
    {
     "data": {
      "text/plain": [
       "\"Query: WITH top_countries AS (\\n    SELECT Country_ID, Name\\n    FROM Countries\\n    WHERE Name IN ('Singapore', 'Ireland', 'Hong Kong SAR', 'Russian Federation', 'Northern Ireland')\\n),\\nreading_emphasis AS (\\n    SELECT \\n        C.Name AS Country,\\n        COUNT(CASE WHEN SQA.Answer = 'Very high emphasis' THEN 1 END) AS Very_High_Emphasis_Count,\\n        COUNT(*) AS Total_Count\\n    FROM \\n        SchoolQuestionnaireAnswers SQA\\n    JOIN \\n        Schools S ON SQA.School_ID = S.School_ID\\n    JOIN \\n        top_countries C ON S.Country_ID = C.Country_ID\\n    WHERE \\n        SQA.Code = 'ACBG13A'\\n    GROUP BY \\n        C.Name\\n)\\nSELECT \\n    Country,\\n    CASE \\n        WHEN Total_Count = 0 THEN 0\\n        ELSE CAST(Very_High_Emphasis_Count AS FLOAT) / Total_Count * 100 \\n    END AS Percentage_Very_High_Emphasis\\nFROM \\n    reading_emphasis\\nORDER BY \\n    Percentage_Very_High_Emphasis DESC;\\n\\nResult: \""
      ]
     },
     "execution_count": 85,
     "metadata": {},
     "output_type": "execute_result"
    }
   ],
   "source": [
    "query_database(\"\"\"WITH top_countries AS (\n",
    "    SELECT Country_ID, Name\n",
    "    FROM Countries\n",
    "    WHERE Name IN ('Singapore', 'Ireland', 'Hong Kong SAR', 'Russian Federation', 'Northern Ireland')\n",
    "),\n",
    "reading_emphasis AS (\n",
    "    SELECT \n",
    "        C.Name AS Country,\n",
    "        COUNT(CASE WHEN SQA.Answer = 'Very high emphasis' THEN 1 END) AS Very_High_Emphasis_Count,\n",
    "        COUNT(*) AS Total_Count\n",
    "    FROM \n",
    "        SchoolQuestionnaireAnswers SQA\n",
    "    JOIN \n",
    "        Schools S ON SQA.School_ID = S.School_ID\n",
    "    JOIN \n",
    "        top_countries C ON S.Country_ID = C.Country_ID\n",
    "    WHERE \n",
    "        SQA.Code = 'ACBG13A'\n",
    "    GROUP BY \n",
    "        C.Name\n",
    ")\n",
    "SELECT \n",
    "    Country,\n",
    "    CASE \n",
    "        WHEN Total_Count = 0 THEN 0\n",
    "        ELSE CAST(Very_High_Emphasis_Count AS FLOAT) / Total_Count * 100 \n",
    "    END AS Percentage_Very_High_Emphasis\n",
    "FROM \n",
    "    reading_emphasis\n",
    "ORDER BY \n",
    "    Percentage_Very_High_Emphasis DESC;\n",
    "\"\"\")"
   ]
  },
  {
   "cell_type": "markdown",
   "id": "7d134760-f722-47d8-87ae-479aea03139e",
   "metadata": {},
   "source": [
    "### Test plotly"
   ]
  },
  {
   "cell_type": "code",
   "execution_count": 27,
   "id": "bd75fcc6-88dd-4c7a-b1aa-498945807ed0",
   "metadata": {
    "tags": []
   },
   "outputs": [
    {
     "name": "stdout",
     "output_type": "stream",
     "text": [
      "Requirement already satisfied: plotly in /home/ec2-user/anaconda3/envs/python3/lib/python3.10/site-packages (5.24.1)\n",
      "Requirement already satisfied: tenacity>=6.2.0 in /home/ec2-user/anaconda3/envs/python3/lib/python3.10/site-packages (from plotly) (8.5.0)\n",
      "Requirement already satisfied: packaging in /home/ec2-user/anaconda3/envs/python3/lib/python3.10/site-packages (from plotly) (24.1)\n"
     ]
    }
   ],
   "source": [
    "!pip install plotly"
   ]
  },
  {
   "cell_type": "code",
   "execution_count": 28,
   "id": "33a099a1-5b47-459b-b017-7de0d69e6e45",
   "metadata": {
    "tags": []
   },
   "outputs": [
    {
     "data": {
      "application/vnd.plotly.v1+json": {
       "config": {
        "plotlyServerURL": "https://plot.ly"
       },
       "data": [
        {
         "hovertemplate": "origin=USA<br>Horsepower=%{x}<br>Miles per Gallon=%{y}<br>weight=%{marker.size}<extra></extra>",
         "legendgroup": "USA",
         "marker": {
          "color": "#636efa",
          "opacity": 0.5,
          "size": [
           3504,
           3693,
           3436,
           3433,
           4341,
           4354,
           4312,
           4498,
           4464
          ],
          "sizemode": "area",
          "sizeref": 1.2494444444444444,
          "symbol": "circle"
         },
         "mode": "markers",
         "name": "USA",
         "orientation": "v",
         "showlegend": true,
         "type": "scatter",
         "x": [
          130,
          165,
          150,
          140,
          198,
          220,
          215,
          110,
          105
         ],
         "xaxis": "x",
         "y": [
          18,
          15,
          16,
          17,
          14,
          12,
          13,
          19,
          20
         ],
         "yaxis": "y"
        },
        {
         "hovertemplate": "origin=Europe<br>Horsepower=%{x}<br>Miles per Gallon=%{y}<br>weight=%{marker.size}<extra></extra>",
         "legendgroup": "Europe",
         "marker": {
          "color": "#EF553B",
          "opacity": 0.5,
          "size": [
           4425
          ],
          "sizemode": "area",
          "sizeref": 1.2494444444444444,
          "symbol": "circle"
         },
         "mode": "markers",
         "name": "Europe",
         "orientation": "v",
         "showlegend": true,
         "type": "scatter",
         "x": [
          95
         ],
         "xaxis": "x",
         "y": [
          21
         ],
         "yaxis": "y"
        }
       ],
       "layout": {
        "autosize": true,
        "legend": {
         "itemsizing": "constant",
         "title": {
          "text": "origin"
         },
         "tracegroupgap": 0
        },
        "template": {
         "data": {
          "bar": [
           {
            "error_x": {
             "color": "#2a3f5f"
            },
            "error_y": {
             "color": "#2a3f5f"
            },
            "marker": {
             "line": {
              "color": "#E5ECF6",
              "width": 0.5
             },
             "pattern": {
              "fillmode": "overlay",
              "size": 10,
              "solidity": 0.2
             }
            },
            "type": "bar"
           }
          ],
          "barpolar": [
           {
            "marker": {
             "line": {
              "color": "#E5ECF6",
              "width": 0.5
             },
             "pattern": {
              "fillmode": "overlay",
              "size": 10,
              "solidity": 0.2
             }
            },
            "type": "barpolar"
           }
          ],
          "carpet": [
           {
            "aaxis": {
             "endlinecolor": "#2a3f5f",
             "gridcolor": "white",
             "linecolor": "white",
             "minorgridcolor": "white",
             "startlinecolor": "#2a3f5f"
            },
            "baxis": {
             "endlinecolor": "#2a3f5f",
             "gridcolor": "white",
             "linecolor": "white",
             "minorgridcolor": "white",
             "startlinecolor": "#2a3f5f"
            },
            "type": "carpet"
           }
          ],
          "choropleth": [
           {
            "colorbar": {
             "outlinewidth": 0,
             "ticks": ""
            },
            "type": "choropleth"
           }
          ],
          "contour": [
           {
            "colorbar": {
             "outlinewidth": 0,
             "ticks": ""
            },
            "colorscale": [
             [
              0,
              "#0d0887"
             ],
             [
              0.1111111111111111,
              "#46039f"
             ],
             [
              0.2222222222222222,
              "#7201a8"
             ],
             [
              0.3333333333333333,
              "#9c179e"
             ],
             [
              0.4444444444444444,
              "#bd3786"
             ],
             [
              0.5555555555555556,
              "#d8576b"
             ],
             [
              0.6666666666666666,
              "#ed7953"
             ],
             [
              0.7777777777777778,
              "#fb9f3a"
             ],
             [
              0.8888888888888888,
              "#fdca26"
             ],
             [
              1,
              "#f0f921"
             ]
            ],
            "type": "contour"
           }
          ],
          "contourcarpet": [
           {
            "colorbar": {
             "outlinewidth": 0,
             "ticks": ""
            },
            "type": "contourcarpet"
           }
          ],
          "heatmap": [
           {
            "colorbar": {
             "outlinewidth": 0,
             "ticks": ""
            },
            "colorscale": [
             [
              0,
              "#0d0887"
             ],
             [
              0.1111111111111111,
              "#46039f"
             ],
             [
              0.2222222222222222,
              "#7201a8"
             ],
             [
              0.3333333333333333,
              "#9c179e"
             ],
             [
              0.4444444444444444,
              "#bd3786"
             ],
             [
              0.5555555555555556,
              "#d8576b"
             ],
             [
              0.6666666666666666,
              "#ed7953"
             ],
             [
              0.7777777777777778,
              "#fb9f3a"
             ],
             [
              0.8888888888888888,
              "#fdca26"
             ],
             [
              1,
              "#f0f921"
             ]
            ],
            "type": "heatmap"
           }
          ],
          "heatmapgl": [
           {
            "colorbar": {
             "outlinewidth": 0,
             "ticks": ""
            },
            "colorscale": [
             [
              0,
              "#0d0887"
             ],
             [
              0.1111111111111111,
              "#46039f"
             ],
             [
              0.2222222222222222,
              "#7201a8"
             ],
             [
              0.3333333333333333,
              "#9c179e"
             ],
             [
              0.4444444444444444,
              "#bd3786"
             ],
             [
              0.5555555555555556,
              "#d8576b"
             ],
             [
              0.6666666666666666,
              "#ed7953"
             ],
             [
              0.7777777777777778,
              "#fb9f3a"
             ],
             [
              0.8888888888888888,
              "#fdca26"
             ],
             [
              1,
              "#f0f921"
             ]
            ],
            "type": "heatmapgl"
           }
          ],
          "histogram": [
           {
            "marker": {
             "pattern": {
              "fillmode": "overlay",
              "size": 10,
              "solidity": 0.2
             }
            },
            "type": "histogram"
           }
          ],
          "histogram2d": [
           {
            "colorbar": {
             "outlinewidth": 0,
             "ticks": ""
            },
            "colorscale": [
             [
              0,
              "#0d0887"
             ],
             [
              0.1111111111111111,
              "#46039f"
             ],
             [
              0.2222222222222222,
              "#7201a8"
             ],
             [
              0.3333333333333333,
              "#9c179e"
             ],
             [
              0.4444444444444444,
              "#bd3786"
             ],
             [
              0.5555555555555556,
              "#d8576b"
             ],
             [
              0.6666666666666666,
              "#ed7953"
             ],
             [
              0.7777777777777778,
              "#fb9f3a"
             ],
             [
              0.8888888888888888,
              "#fdca26"
             ],
             [
              1,
              "#f0f921"
             ]
            ],
            "type": "histogram2d"
           }
          ],
          "histogram2dcontour": [
           {
            "colorbar": {
             "outlinewidth": 0,
             "ticks": ""
            },
            "colorscale": [
             [
              0,
              "#0d0887"
             ],
             [
              0.1111111111111111,
              "#46039f"
             ],
             [
              0.2222222222222222,
              "#7201a8"
             ],
             [
              0.3333333333333333,
              "#9c179e"
             ],
             [
              0.4444444444444444,
              "#bd3786"
             ],
             [
              0.5555555555555556,
              "#d8576b"
             ],
             [
              0.6666666666666666,
              "#ed7953"
             ],
             [
              0.7777777777777778,
              "#fb9f3a"
             ],
             [
              0.8888888888888888,
              "#fdca26"
             ],
             [
              1,
              "#f0f921"
             ]
            ],
            "type": "histogram2dcontour"
           }
          ],
          "mesh3d": [
           {
            "colorbar": {
             "outlinewidth": 0,
             "ticks": ""
            },
            "type": "mesh3d"
           }
          ],
          "parcoords": [
           {
            "line": {
             "colorbar": {
              "outlinewidth": 0,
              "ticks": ""
             }
            },
            "type": "parcoords"
           }
          ],
          "pie": [
           {
            "automargin": true,
            "type": "pie"
           }
          ],
          "scatter": [
           {
            "fillpattern": {
             "fillmode": "overlay",
             "size": 10,
             "solidity": 0.2
            },
            "type": "scatter"
           }
          ],
          "scatter3d": [
           {
            "line": {
             "colorbar": {
              "outlinewidth": 0,
              "ticks": ""
             }
            },
            "marker": {
             "colorbar": {
              "outlinewidth": 0,
              "ticks": ""
             }
            },
            "type": "scatter3d"
           }
          ],
          "scattercarpet": [
           {
            "marker": {
             "colorbar": {
              "outlinewidth": 0,
              "ticks": ""
             }
            },
            "type": "scattercarpet"
           }
          ],
          "scattergeo": [
           {
            "marker": {
             "colorbar": {
              "outlinewidth": 0,
              "ticks": ""
             }
            },
            "type": "scattergeo"
           }
          ],
          "scattergl": [
           {
            "marker": {
             "colorbar": {
              "outlinewidth": 0,
              "ticks": ""
             }
            },
            "type": "scattergl"
           }
          ],
          "scattermapbox": [
           {
            "marker": {
             "colorbar": {
              "outlinewidth": 0,
              "ticks": ""
             }
            },
            "type": "scattermapbox"
           }
          ],
          "scatterpolar": [
           {
            "marker": {
             "colorbar": {
              "outlinewidth": 0,
              "ticks": ""
             }
            },
            "type": "scatterpolar"
           }
          ],
          "scatterpolargl": [
           {
            "marker": {
             "colorbar": {
              "outlinewidth": 0,
              "ticks": ""
             }
            },
            "type": "scatterpolargl"
           }
          ],
          "scatterternary": [
           {
            "marker": {
             "colorbar": {
              "outlinewidth": 0,
              "ticks": ""
             }
            },
            "type": "scatterternary"
           }
          ],
          "surface": [
           {
            "colorbar": {
             "outlinewidth": 0,
             "ticks": ""
            },
            "colorscale": [
             [
              0,
              "#0d0887"
             ],
             [
              0.1111111111111111,
              "#46039f"
             ],
             [
              0.2222222222222222,
              "#7201a8"
             ],
             [
              0.3333333333333333,
              "#9c179e"
             ],
             [
              0.4444444444444444,
              "#bd3786"
             ],
             [
              0.5555555555555556,
              "#d8576b"
             ],
             [
              0.6666666666666666,
              "#ed7953"
             ],
             [
              0.7777777777777778,
              "#fb9f3a"
             ],
             [
              0.8888888888888888,
              "#fdca26"
             ],
             [
              1,
              "#f0f921"
             ]
            ],
            "type": "surface"
           }
          ],
          "table": [
           {
            "cells": {
             "fill": {
              "color": "#EBF0F8"
             },
             "line": {
              "color": "white"
             }
            },
            "header": {
             "fill": {
              "color": "#C8D4E3"
             },
             "line": {
              "color": "white"
             }
            },
            "type": "table"
           }
          ]
         },
         "layout": {
          "annotationdefaults": {
           "arrowcolor": "#2a3f5f",
           "arrowhead": 0,
           "arrowwidth": 1
          },
          "autotypenumbers": "strict",
          "coloraxis": {
           "colorbar": {
            "outlinewidth": 0,
            "ticks": ""
           }
          },
          "colorscale": {
           "diverging": [
            [
             0,
             "#8e0152"
            ],
            [
             0.1,
             "#c51b7d"
            ],
            [
             0.2,
             "#de77ae"
            ],
            [
             0.3,
             "#f1b6da"
            ],
            [
             0.4,
             "#fde0ef"
            ],
            [
             0.5,
             "#f7f7f7"
            ],
            [
             0.6,
             "#e6f5d0"
            ],
            [
             0.7,
             "#b8e186"
            ],
            [
             0.8,
             "#7fbc41"
            ],
            [
             0.9,
             "#4d9221"
            ],
            [
             1,
             "#276419"
            ]
           ],
           "sequential": [
            [
             0,
             "#0d0887"
            ],
            [
             0.1111111111111111,
             "#46039f"
            ],
            [
             0.2222222222222222,
             "#7201a8"
            ],
            [
             0.3333333333333333,
             "#9c179e"
            ],
            [
             0.4444444444444444,
             "#bd3786"
            ],
            [
             0.5555555555555556,
             "#d8576b"
            ],
            [
             0.6666666666666666,
             "#ed7953"
            ],
            [
             0.7777777777777778,
             "#fb9f3a"
            ],
            [
             0.8888888888888888,
             "#fdca26"
            ],
            [
             1,
             "#f0f921"
            ]
           ],
           "sequentialminus": [
            [
             0,
             "#0d0887"
            ],
            [
             0.1111111111111111,
             "#46039f"
            ],
            [
             0.2222222222222222,
             "#7201a8"
            ],
            [
             0.3333333333333333,
             "#9c179e"
            ],
            [
             0.4444444444444444,
             "#bd3786"
            ],
            [
             0.5555555555555556,
             "#d8576b"
            ],
            [
             0.6666666666666666,
             "#ed7953"
            ],
            [
             0.7777777777777778,
             "#fb9f3a"
            ],
            [
             0.8888888888888888,
             "#fdca26"
            ],
            [
             1,
             "#f0f921"
            ]
           ]
          },
          "colorway": [
           "#636efa",
           "#EF553B",
           "#00cc96",
           "#ab63fa",
           "#FFA15A",
           "#19d3f3",
           "#FF6692",
           "#B6E880",
           "#FF97FF",
           "#FECB52"
          ],
          "font": {
           "color": "#2a3f5f"
          },
          "geo": {
           "bgcolor": "white",
           "lakecolor": "white",
           "landcolor": "#E5ECF6",
           "showlakes": true,
           "showland": true,
           "subunitcolor": "white"
          },
          "hoverlabel": {
           "align": "left"
          },
          "hovermode": "closest",
          "mapbox": {
           "style": "light"
          },
          "paper_bgcolor": "white",
          "plot_bgcolor": "#E5ECF6",
          "polar": {
           "angularaxis": {
            "gridcolor": "white",
            "linecolor": "white",
            "ticks": ""
           },
           "bgcolor": "#E5ECF6",
           "radialaxis": {
            "gridcolor": "white",
            "linecolor": "white",
            "ticks": ""
           }
          },
          "scene": {
           "xaxis": {
            "backgroundcolor": "#E5ECF6",
            "gridcolor": "white",
            "gridwidth": 2,
            "linecolor": "white",
            "showbackground": true,
            "ticks": "",
            "zerolinecolor": "white"
           },
           "yaxis": {
            "backgroundcolor": "#E5ECF6",
            "gridcolor": "white",
            "gridwidth": 2,
            "linecolor": "white",
            "showbackground": true,
            "ticks": "",
            "zerolinecolor": "white"
           },
           "zaxis": {
            "backgroundcolor": "#E5ECF6",
            "gridcolor": "white",
            "gridwidth": 2,
            "linecolor": "white",
            "showbackground": true,
            "ticks": "",
            "zerolinecolor": "white"
           }
          },
          "shapedefaults": {
           "line": {
            "color": "#2a3f5f"
           }
          },
          "ternary": {
           "aaxis": {
            "gridcolor": "white",
            "linecolor": "white",
            "ticks": ""
           },
           "baxis": {
            "gridcolor": "white",
            "linecolor": "white",
            "ticks": ""
           },
           "bgcolor": "#E5ECF6",
           "caxis": {
            "gridcolor": "white",
            "linecolor": "white",
            "ticks": ""
           }
          },
          "title": {
           "x": 0.05
          },
          "xaxis": {
           "automargin": true,
           "gridcolor": "white",
           "linecolor": "white",
           "ticks": "",
           "title": {
            "standoff": 15
           },
           "zerolinecolor": "white",
           "zerolinewidth": 2
          },
          "yaxis": {
           "automargin": true,
           "gridcolor": "white",
           "linecolor": "white",
           "ticks": "",
           "title": {
            "standoff": 15
           },
           "zerolinecolor": "white",
           "zerolinewidth": 2
          }
         }
        },
        "title": {
         "text": "Miles per Gallon vs Horsepower"
        },
        "xaxis": {
         "anchor": "y",
         "autorange": true,
         "domain": [
          0,
          1
         ],
         "range": [
          81.74944344142163,
          233.20482174796652
         ],
         "title": {
          "text": "Horsepower"
         },
         "type": "linear"
        },
        "yaxis": {
         "anchor": "x",
         "autorange": true,
         "domain": [
          0,
          1
         ],
         "range": [
          4.6626862839296495,
          28.387263301013473
         ],
         "title": {
          "text": "Miles per Gallon"
         },
         "type": "linear"
        }
       }
      },
      "image/png": "[encoded data removed]",
      "text/html": [
       "<div>                            <div id=\"2e9f7cf7-ae48-4465-9975-3f138e65a96a\" class=\"plotly-graph-div\" style=\"height:525px; width:100%;\"></div>            <script type=\"text/javascript\">                require([\"plotly\"], function(Plotly) {                    window.PLOTLYENV=window.PLOTLYENV || {};                                    if (document.getElementById(\"2e9f7cf7-ae48-4465-9975-3f138e65a96a\")) {                    Plotly.newPlot(                        \"2e9f7cf7-ae48-4465-9975-3f138e65a96a\",                        [{\"hovertemplate\":\"origin=USA\\u003cbr\\u003eHorsepower=%{x}\\u003cbr\\u003eMiles per Gallon=%{y}\\u003cbr\\u003eweight=%{marker.size}\\u003cextra\\u003e\\u003c\\u002fextra\\u003e\",\"legendgroup\":\"USA\",\"marker\":{\"color\":\"#636efa\",\"opacity\":0.5,\"size\":[3504,3693,3436,3433,4341,4354,4312,4498,4464],\"sizemode\":\"area\",\"sizeref\":1.2494444444444444,\"symbol\":\"circle\"},\"mode\":\"markers\",\"name\":\"USA\",\"orientation\":\"v\",\"showlegend\":true,\"x\":[130,165,150,140,198,220,215,110,105],\"xaxis\":\"x\",\"y\":[18,15,16,17,14,12,13,19,20],\"yaxis\":\"y\",\"type\":\"scatter\"},{\"hovertemplate\":\"origin=Europe\\u003cbr\\u003eHorsepower=%{x}\\u003cbr\\u003eMiles per Gallon=%{y}\\u003cbr\\u003eweight=%{marker.size}\\u003cextra\\u003e\\u003c\\u002fextra\\u003e\",\"legendgroup\":\"Europe\",\"marker\":{\"color\":\"#EF553B\",\"opacity\":0.5,\"size\":[4425],\"sizemode\":\"area\",\"sizeref\":1.2494444444444444,\"symbol\":\"circle\"},\"mode\":\"markers\",\"name\":\"Europe\",\"orientation\":\"v\",\"showlegend\":true,\"x\":[95],\"xaxis\":\"x\",\"y\":[21],\"yaxis\":\"y\",\"type\":\"scatter\"}],                        {\"template\":{\"data\":{\"histogram2dcontour\":[{\"type\":\"histogram2dcontour\",\"colorbar\":{\"outlinewidth\":0,\"ticks\":\"\"},\"colorscale\":[[0.0,\"#0d0887\"],[0.1111111111111111,\"#46039f\"],[0.2222222222222222,\"#7201a8\"],[0.3333333333333333,\"#9c179e\"],[0.4444444444444444,\"#bd3786\"],[0.5555555555555556,\"#d8576b\"],[0.6666666666666666,\"#ed7953\"],[0.7777777777777778,\"#fb9f3a\"],[0.8888888888888888,\"#fdca26\"],[1.0,\"#f0f921\"]]}],\"choropleth\":[{\"type\":\"choropleth\",\"colorbar\":{\"outlinewidth\":0,\"ticks\":\"\"}}],\"histogram2d\":[{\"type\":\"histogram2d\",\"colorbar\":{\"outlinewidth\":0,\"ticks\":\"\"},\"colorscale\":[[0.0,\"#0d0887\"],[0.1111111111111111,\"#46039f\"],[0.2222222222222222,\"#7201a8\"],[0.3333333333333333,\"#9c179e\"],[0.4444444444444444,\"#bd3786\"],[0.5555555555555556,\"#d8576b\"],[0.6666666666666666,\"#ed7953\"],[0.7777777777777778,\"#fb9f3a\"],[0.8888888888888888,\"#fdca26\"],[1.0,\"#f0f921\"]]}],\"heatmap\":[{\"type\":\"heatmap\",\"colorbar\":{\"outlinewidth\":0,\"ticks\":\"\"},\"colorscale\":[[0.0,\"#0d0887\"],[0.1111111111111111,\"#46039f\"],[0.2222222222222222,\"#7201a8\"],[0.3333333333333333,\"#9c179e\"],[0.4444444444444444,\"#bd3786\"],[0.5555555555555556,\"#d8576b\"],[0.6666666666666666,\"#ed7953\"],[0.7777777777777778,\"#fb9f3a\"],[0.8888888888888888,\"#fdca26\"],[1.0,\"#f0f921\"]]}],\"heatmapgl\":[{\"type\":\"heatmapgl\",\"colorbar\":{\"outlinewidth\":0,\"ticks\":\"\"},\"colorscale\":[[0.0,\"#0d0887\"],[0.1111111111111111,\"#46039f\"],[0.2222222222222222,\"#7201a8\"],[0.3333333333333333,\"#9c179e\"],[0.4444444444444444,\"#bd3786\"],[0.5555555555555556,\"#d8576b\"],[0.6666666666666666,\"#ed7953\"],[0.7777777777777778,\"#fb9f3a\"],[0.8888888888888888,\"#fdca26\"],[1.0,\"#f0f921\"]]}],\"contourcarpet\":[{\"type\":\"contourcarpet\",\"colorbar\":{\"outlinewidth\":0,\"ticks\":\"\"}}],\"contour\":[{\"type\":\"contour\",\"colorbar\":{\"outlinewidth\":0,\"ticks\":\"\"},\"colorscale\":[[0.0,\"#0d0887\"],[0.1111111111111111,\"#46039f\"],[0.2222222222222222,\"#7201a8\"],[0.3333333333333333,\"#9c179e\"],[0.4444444444444444,\"#bd3786\"],[0.5555555555555556,\"#d8576b\"],[0.6666666666666666,\"#ed7953\"],[0.7777777777777778,\"#fb9f3a\"],[0.8888888888888888,\"#fdca26\"],[1.0,\"#f0f921\"]]}],\"surface\":[{\"type\":\"surface\",\"colorbar\":{\"outlinewidth\":0,\"ticks\":\"\"},\"colorscale\":[[0.0,\"#0d0887\"],[0.1111111111111111,\"#46039f\"],[0.2222222222222222,\"#7201a8\"],[0.3333333333333333,\"#9c179e\"],[0.4444444444444444,\"#bd3786\"],[0.5555555555555556,\"#d8576b\"],[0.6666666666666666,\"#ed7953\"],[0.7777777777777778,\"#fb9f3a\"],[0.8888888888888888,\"#fdca26\"],[1.0,\"#f0f921\"]]}],\"mesh3d\":[{\"type\":\"mesh3d\",\"colorbar\":{\"outlinewidth\":0,\"ticks\":\"\"}}],\"scatter\":[{\"fillpattern\":{\"fillmode\":\"overlay\",\"size\":10,\"solidity\":0.2},\"type\":\"scatter\"}],\"parcoords\":[{\"type\":\"parcoords\",\"line\":{\"colorbar\":{\"outlinewidth\":0,\"ticks\":\"\"}}}],\"scatterpolargl\":[{\"type\":\"scatterpolargl\",\"marker\":{\"colorbar\":{\"outlinewidth\":0,\"ticks\":\"\"}}}],\"bar\":[{\"error_x\":{\"color\":\"#2a3f5f\"},\"error_y\":{\"color\":\"#2a3f5f\"},\"marker\":{\"line\":{\"color\":\"#E5ECF6\",\"width\":0.5},\"pattern\":{\"fillmode\":\"overlay\",\"size\":10,\"solidity\":0.2}},\"type\":\"bar\"}],\"scattergeo\":[{\"type\":\"scattergeo\",\"marker\":{\"colorbar\":{\"outlinewidth\":0,\"ticks\":\"\"}}}],\"scatterpolar\":[{\"type\":\"scatterpolar\",\"marker\":{\"colorbar\":{\"outlinewidth\":0,\"ticks\":\"\"}}}],\"histogram\":[{\"marker\":{\"pattern\":{\"fillmode\":\"overlay\",\"size\":10,\"solidity\":0.2}},\"type\":\"histogram\"}],\"scattergl\":[{\"type\":\"scattergl\",\"marker\":{\"colorbar\":{\"outlinewidth\":0,\"ticks\":\"\"}}}],\"scatter3d\":[{\"type\":\"scatter3d\",\"line\":{\"colorbar\":{\"outlinewidth\":0,\"ticks\":\"\"}},\"marker\":{\"colorbar\":{\"outlinewidth\":0,\"ticks\":\"\"}}}],\"scattermapbox\":[{\"type\":\"scattermapbox\",\"marker\":{\"colorbar\":{\"outlinewidth\":0,\"ticks\":\"\"}}}],\"scatterternary\":[{\"type\":\"scatterternary\",\"marker\":{\"colorbar\":{\"outlinewidth\":0,\"ticks\":\"\"}}}],\"scattercarpet\":[{\"type\":\"scattercarpet\",\"marker\":{\"colorbar\":{\"outlinewidth\":0,\"ticks\":\"\"}}}],\"carpet\":[{\"aaxis\":{\"endlinecolor\":\"#2a3f5f\",\"gridcolor\":\"white\",\"linecolor\":\"white\",\"minorgridcolor\":\"white\",\"startlinecolor\":\"#2a3f5f\"},\"baxis\":{\"endlinecolor\":\"#2a3f5f\",\"gridcolor\":\"white\",\"linecolor\":\"white\",\"minorgridcolor\":\"white\",\"startlinecolor\":\"#2a3f5f\"},\"type\":\"carpet\"}],\"table\":[{\"cells\":{\"fill\":{\"color\":\"#EBF0F8\"},\"line\":{\"color\":\"white\"}},\"header\":{\"fill\":{\"color\":\"#C8D4E3\"},\"line\":{\"color\":\"white\"}},\"type\":\"table\"}],\"barpolar\":[{\"marker\":{\"line\":{\"color\":\"#E5ECF6\",\"width\":0.5},\"pattern\":{\"fillmode\":\"overlay\",\"size\":10,\"solidity\":0.2}},\"type\":\"barpolar\"}],\"pie\":[{\"automargin\":true,\"type\":\"pie\"}]},\"layout\":{\"autotypenumbers\":\"strict\",\"colorway\":[\"#636efa\",\"#EF553B\",\"#00cc96\",\"#ab63fa\",\"#FFA15A\",\"#19d3f3\",\"#FF6692\",\"#B6E880\",\"#FF97FF\",\"#FECB52\"],\"font\":{\"color\":\"#2a3f5f\"},\"hovermode\":\"closest\",\"hoverlabel\":{\"align\":\"left\"},\"paper_bgcolor\":\"white\",\"plot_bgcolor\":\"#E5ECF6\",\"polar\":{\"bgcolor\":\"#E5ECF6\",\"angularaxis\":{\"gridcolor\":\"white\",\"linecolor\":\"white\",\"ticks\":\"\"},\"radialaxis\":{\"gridcolor\":\"white\",\"linecolor\":\"white\",\"ticks\":\"\"}},\"ternary\":{\"bgcolor\":\"#E5ECF6\",\"aaxis\":{\"gridcolor\":\"white\",\"linecolor\":\"white\",\"ticks\":\"\"},\"baxis\":{\"gridcolor\":\"white\",\"linecolor\":\"white\",\"ticks\":\"\"},\"caxis\":{\"gridcolor\":\"white\",\"linecolor\":\"white\",\"ticks\":\"\"}},\"coloraxis\":{\"colorbar\":{\"outlinewidth\":0,\"ticks\":\"\"}},\"colorscale\":{\"sequential\":[[0.0,\"#0d0887\"],[0.1111111111111111,\"#46039f\"],[0.2222222222222222,\"#7201a8\"],[0.3333333333333333,\"#9c179e\"],[0.4444444444444444,\"#bd3786\"],[0.5555555555555556,\"#d8576b\"],[0.6666666666666666,\"#ed7953\"],[0.7777777777777778,\"#fb9f3a\"],[0.8888888888888888,\"#fdca26\"],[1.0,\"#f0f921\"]],\"sequentialminus\":[[0.0,\"#0d0887\"],[0.1111111111111111,\"#46039f\"],[0.2222222222222222,\"#7201a8\"],[0.3333333333333333,\"#9c179e\"],[0.4444444444444444,\"#bd3786\"],[0.5555555555555556,\"#d8576b\"],[0.6666666666666666,\"#ed7953\"],[0.7777777777777778,\"#fb9f3a\"],[0.8888888888888888,\"#fdca26\"],[1.0,\"#f0f921\"]],\"diverging\":[[0,\"#8e0152\"],[0.1,\"#c51b7d\"],[0.2,\"#de77ae\"],[0.3,\"#f1b6da\"],[0.4,\"#fde0ef\"],[0.5,\"#f7f7f7\"],[0.6,\"#e6f5d0\"],[0.7,\"#b8e186\"],[0.8,\"#7fbc41\"],[0.9,\"#4d9221\"],[1,\"#276419\"]]},\"xaxis\":{\"gridcolor\":\"white\",\"linecolor\":\"white\",\"ticks\":\"\",\"title\":{\"standoff\":15},\"zerolinecolor\":\"white\",\"automargin\":true,\"zerolinewidth\":2},\"yaxis\":{\"gridcolor\":\"white\",\"linecolor\":\"white\",\"ticks\":\"\",\"title\":{\"standoff\":15},\"zerolinecolor\":\"white\",\"automargin\":true,\"zerolinewidth\":2},\"scene\":{\"xaxis\":{\"backgroundcolor\":\"#E5ECF6\",\"gridcolor\":\"white\",\"linecolor\":\"white\",\"showbackground\":true,\"ticks\":\"\",\"zerolinecolor\":\"white\",\"gridwidth\":2},\"yaxis\":{\"backgroundcolor\":\"#E5ECF6\",\"gridcolor\":\"white\",\"linecolor\":\"white\",\"showbackground\":true,\"ticks\":\"\",\"zerolinecolor\":\"white\",\"gridwidth\":2},\"zaxis\":{\"backgroundcolor\":\"#E5ECF6\",\"gridcolor\":\"white\",\"linecolor\":\"white\",\"showbackground\":true,\"ticks\":\"\",\"zerolinecolor\":\"white\",\"gridwidth\":2}},\"shapedefaults\":{\"line\":{\"color\":\"#2a3f5f\"}},\"annotationdefaults\":{\"arrowcolor\":\"#2a3f5f\",\"arrowhead\":0,\"arrowwidth\":1},\"geo\":{\"bgcolor\":\"white\",\"landcolor\":\"#E5ECF6\",\"subunitcolor\":\"white\",\"showland\":true,\"showlakes\":true,\"lakecolor\":\"white\"},\"title\":{\"x\":0.05},\"mapbox\":{\"style\":\"light\"}}},\"xaxis\":{\"anchor\":\"y\",\"domain\":[0.0,1.0],\"title\":{\"text\":\"Horsepower\"}},\"yaxis\":{\"anchor\":\"x\",\"domain\":[0.0,1.0],\"title\":{\"text\":\"Miles per Gallon\"}},\"legend\":{\"title\":{\"text\":\"origin\"},\"tracegroupgap\":0,\"itemsizing\":\"constant\"},\"title\":{\"text\":\"Miles per Gallon vs Horsepower\"}},                        {\"responsive\": true}                    ).then(function(){\n",
       "                            \n",
       "var gd = document.getElementById('2e9f7cf7-ae48-4465-9975-3f138e65a96a');\n",
       "var x = new MutationObserver(function (mutations, observer) {{\n",
       "        var display = window.getComputedStyle(gd).display;\n",
       "        if (!display || display === 'none') {{\n",
       "            console.log([gd, 'removed!']);\n",
       "            Plotly.purge(gd);\n",
       "            observer.disconnect();\n",
       "        }}\n",
       "}});\n",
       "\n",
       "// Listen for the removal of the full notebook cells\n",
       "var notebookContainer = gd.closest('#notebook-container');\n",
       "if (notebookContainer) {{\n",
       "    x.observe(notebookContainer, {childList: true});\n",
       "}}\n",
       "\n",
       "// Listen for the clearing of the current output cell\n",
       "var outputEl = gd.closest('.output');\n",
       "if (outputEl) {{\n",
       "    x.observe(outputEl, {childList: true});\n",
       "}}\n",
       "\n",
       "                        })                };                });            </script>        </div>"
      ]
     },
     "metadata": {},
     "output_type": "display_data"
    }
   ],
   "source": [
    "import plotly.express as px\n",
    "import pandas as pd\n",
    "\n",
    "# Define the dataset directly\n",
    "mpg_data = {\n",
    "    \"mpg\": [18, 15, 16, 17, 14, 12, 13, 19, 20, 21],\n",
    "    \"horsepower\": [130, 165, 150, 140, 198, 220, 215, 110, 105, 95],\n",
    "    \"weight\": [3504, 3693, 3436, 3433, 4341, 4354, 4312, 4498, 4464, 4425],\n",
    "    \"origin\": [\"USA\", \"USA\", \"USA\", \"USA\", \"USA\", \"USA\", \"USA\", \"USA\", \"USA\", \"Europe\"]\n",
    "}\n",
    "\n",
    "# Convert the dataset to a pandas DataFrame\n",
    "mpg = pd.DataFrame(mpg_data)\n",
    "\n",
    "# Create a Plotly scatter plot\n",
    "fig = px.scatter(mpg, x=\"horsepower\", y=\"mpg\", color=\"origin\", size=\"weight\",\n",
    "                 size_max=60, opacity=0.5, title=\"Miles per Gallon vs Horsepower\",\n",
    "                 labels={\"horsepower\": \"Horsepower\", \"mpg\": \"Miles per Gallon\"})\n",
    "\n",
    "# Show the interactive plot\n",
    "fig.show()"
   ]
  },
  {
   "cell_type": "code",
   "execution_count": null,
   "id": "e86ce4e3-1420-4b67-9408-425e422f24a6",
   "metadata": {},
   "outputs": [],
   "source": []
  }
 ],
 "metadata": {
  "kernelspec": {
   "display_name": "conda_python3",
   "language": "python",
   "name": "conda_python3"
  },
  "language_info": {
   "codemirror_mode": {
    "name": "ipython",
    "version": 3
   },
   "file_extension": ".py",
   "mimetype": "text/x-python",
   "name": "python",
   "nbconvert_exporter": "python",
   "pygments_lexer": "ipython3",
   "version": "3.10.15"
  }
 },
 "nbformat": 4,
 "nbformat_minor": 5
}
