{
 "cells": [
  {
   "cell_type": "markdown",
   "id": "804ffec4-d4a5-4349-81cc-46f2c633fea7",
   "metadata": {},
   "source": [
    "## Langgraph Agentic System\n",
    "\n",
    "### Architecture\n",
    "- Routing for closed or open questions\n",
    "- Closed question (Sequential: data engineer, data visualization, data analyst)\n",
    "- Open question (Sequential: data engineer, researcher, data visualization, data analyst)\n",
    "- Closed question ()"
   ]
  },
  {
   "cell_type": "code",
   "execution_count": null,
   "id": "e3e230b1-4dbd-414a-9818-b990e5602687",
   "metadata": {},
   "outputs": [],
   "source": [
    "!pip install crewai -r ../requirements.txt"
   ]
  },
  {
   "cell_type": "code",
   "execution_count": null,
   "id": "4b462076-8922-436a-bfcb-c1ab6d6109b9",
   "metadata": {},
   "outputs": [],
   "source": [
    "import dotenv\n",
    "assert dotenv.load_dotenv()"
   ]
  },
  {
   "cell_type": "code",
   "execution_count": null,
   "id": "8a78055a-edbd-4a97-9c39-af99300eb24b",
   "metadata": {},
   "outputs": [],
   "source": [
    "# Import required libraries\n",
    "import os\n",
    "from langchain_aws import ChatBedrock\n",
    "\n",
    "# Set up the model ID for Claude\n",
    "#MODEL_ID = \"meta.llama3-8b-instruct-v1:0\"\n",
    "#MODEL_ID = \"meta.llama3-70b-instruct-v1:0\"\n",
    "#MODEL_ID = \"mistral.mistral-7b-instruct-v0:2\"\n",
    "#MODEL_ID = \"mistral.mixtral-8x7b-instruct-v0:1\"\n",
    "MODEL_ID2 = \"anthropic.claude-3-haiku-20240307-v1:0\"\n",
    "MODEL_ID = \"anthropic.claude-3-5-sonnet-20240620-v1:0\"\n",
    "\n",
    "# Initialize the ChatBedrock instance\n",
    "llm = ChatBedrock(model_id=MODEL_ID, model_kwargs={'temperature': 0})\n",
    "llm2 = ChatBedrock(model_id=MODEL_ID2, model_kwargs={'temperature': 0})"
   ]
  }
 ],
 "metadata": {
  "kernelspec": {
   "display_name": "conda_python3",
   "language": "python",
   "name": "conda_python3"
  },
  "language_info": {
   "codemirror_mode": {
    "name": "ipython",
    "version": 3
   },
   "file_extension": ".py",
   "mimetype": "text/x-python",
   "name": "python",
   "nbconvert_exporter": "python",
   "pygments_lexer": "ipython3",
   "version": "3.10.14"
  }
 },
 "nbformat": 4,
 "nbformat_minor": 5
}
